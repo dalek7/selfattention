{
 "cells": [
  {
   "cell_type": "markdown",
   "id": "e858014b",
   "metadata": {},
   "source": [
    "# Image classification with Vision Transformer\n",
    "* This example implements the Vision Transformer (ViT) model by Alexey Dosovitskiy et al. for image classification, and demonstrates it on the CIFAR-100 dataset. The ViT model applies the Transformer architecture with self-attention to sequences of image patches, without using convolution layers."
   ]
  },
  {
   "cell_type": "code",
   "execution_count": 1,
   "id": "12b856f7",
   "metadata": {},
   "outputs": [],
   "source": [
    "import os\n",
    "os.environ[\"CUDA_DEVICE_ORDER\"]=\"PCI_BUS_ID\"\n",
    "os.environ[\"CUDA_VISIBLE_DEVICES\"]=\"0\"  # specify which GPU(s) to be used"
   ]
  },
  {
   "cell_type": "code",
   "execution_count": 2,
   "id": "08650c49",
   "metadata": {},
   "outputs": [],
   "source": [
    "#!pip install -U tensorflow-addons==0.15.0"
   ]
  },
  {
   "cell_type": "code",
   "execution_count": 3,
   "id": "7010a72d",
   "metadata": {},
   "outputs": [],
   "source": [
    "# Successfully uninstalled tensorflow-addons-0.15.0\n",
    "# Successfully installed tensorflow-addons-0.19.0"
   ]
  },
  {
   "cell_type": "code",
   "execution_count": 2,
   "id": "1562c9e9",
   "metadata": {},
   "outputs": [
    {
     "name": "stderr",
     "output_type": "stream",
     "text": [
      "/usr/lib/python3/dist-packages/requests/__init__.py:89: RequestsDependencyWarning: urllib3 (1.26.8) or chardet (3.0.4) doesn't match a supported version!\n",
      "  warnings.warn(\"urllib3 ({}) or chardet ({}) doesn't match a supported \"\n"
     ]
    }
   ],
   "source": [
    "import numpy as np\n",
    "import tensorflow as tf\n",
    "from tensorflow import keras\n",
    "from tensorflow.keras import layers\n",
    "import tensorflow_addons as tfa"
   ]
  },
  {
   "cell_type": "code",
   "execution_count": 3,
   "id": "51ab13a5",
   "metadata": {},
   "outputs": [
    {
     "data": {
      "text/plain": [
       "'2.7.0'"
      ]
     },
     "execution_count": 3,
     "metadata": {},
     "output_type": "execute_result"
    }
   ],
   "source": [
    "tf.__version__"
   ]
  },
  {
   "cell_type": "code",
   "execution_count": 5,
   "id": "33f0ad33",
   "metadata": {},
   "outputs": [],
   "source": [
    "import matplotlib.pyplot as plt\n",
    "%matplotlib inline"
   ]
  },
  {
   "cell_type": "markdown",
   "id": "50582ab7",
   "metadata": {},
   "source": [
    "### Prepare the data"
   ]
  },
  {
   "cell_type": "code",
   "execution_count": 6,
   "id": "9010dc68",
   "metadata": {},
   "outputs": [],
   "source": [
    "num_classes = 100\n",
    "input_shape = (32, 32, 3)\n",
    "\n",
    "(x_train, y_train), (x_test, y_test) = keras.datasets.cifar100.load_data()\n"
   ]
  },
  {
   "cell_type": "code",
   "execution_count": 7,
   "id": "3874ec3f",
   "metadata": {},
   "outputs": [
    {
     "name": "stdout",
     "output_type": "stream",
     "text": [
      "x_train shape: (50000, 32, 32, 3) - y_train shape: (50000, 1)\n",
      "x_test shape: (10000, 32, 32, 3) - y_test shape: (10000, 1)\n"
     ]
    }
   ],
   "source": [
    "print(f\"x_train shape: {x_train.shape} - y_train shape: {y_train.shape}\")\n",
    "print(f\"x_test shape: {x_test.shape} - y_test shape: {y_test.shape}\")"
   ]
  },
  {
   "cell_type": "markdown",
   "id": "58d61d75",
   "metadata": {},
   "source": [
    "### Configure the hyperparameters"
   ]
  },
  {
   "cell_type": "code",
   "execution_count": 8,
   "id": "621cdb0b",
   "metadata": {},
   "outputs": [],
   "source": [
    "learning_rate = 0.001\n",
    "weight_decay = 0.0001\n",
    "batch_size = 256\n",
    "num_epochs = 100\n",
    "image_size = 72  # We'll resize input images to this size\n",
    "patch_size = 6  # Size of the patches to be extract from the input images\n",
    "num_patches = (image_size // patch_size) ** 2\n",
    "projection_dim = 64\n",
    "num_heads = 4\n",
    "transformer_units = [\n",
    "    projection_dim * 2,\n",
    "    projection_dim,\n",
    "]  # Size of the transformer layers\n",
    "transformer_layers = 8\n",
    "mlp_head_units = [2048, 1024]  # Size of the dense layers of the final classifier"
   ]
  },
  {
   "cell_type": "markdown",
   "id": "f885f0a3",
   "metadata": {},
   "source": [
    "### Use data augmentation"
   ]
  },
  {
   "cell_type": "code",
   "execution_count": 9,
   "id": "97bcad3b",
   "metadata": {},
   "outputs": [],
   "source": [
    "data_augmentation = keras.Sequential(\n",
    "    [\n",
    "        layers.Normalization(),\n",
    "        layers.Resizing(image_size, image_size),\n",
    "        layers.RandomFlip(\"horizontal\"),\n",
    "        layers.RandomRotation(factor=0.02),\n",
    "        layers.RandomZoom(\n",
    "            height_factor=0.2, width_factor=0.2\n",
    "        ),\n",
    "    ],\n",
    "    name=\"data_augmentation\",\n",
    ")"
   ]
  },
  {
   "cell_type": "code",
   "execution_count": 28,
   "id": "3b816988",
   "metadata": {},
   "outputs": [
    {
     "data": {
      "text/plain": [
       "[<keras.layers.preprocessing.normalization.Normalization at 0x7f03a25fd490>,\n",
       " <keras.layers.preprocessing.image_preprocessing.Resizing at 0x7f03a25d41f0>,\n",
       " <keras.layers.preprocessing.image_preprocessing.RandomFlip at 0x7f03a25d4430>,\n",
       " <keras.layers.preprocessing.image_preprocessing.RandomRotation at 0x7f03a25d46a0>,\n",
       " <keras.layers.preprocessing.image_preprocessing.RandomZoom at 0x7f03a25d48e0>]"
      ]
     },
     "execution_count": 28,
     "metadata": {},
     "output_type": "execute_result"
    }
   ],
   "source": [
    "data_augmentation.layers"
   ]
  },
  {
   "cell_type": "code",
   "execution_count": 10,
   "id": "996bc541",
   "metadata": {},
   "outputs": [],
   "source": [
    "# Compute the mean and the variance of the training data for normalization.\n",
    "data_augmentation.layers[0].adapt(x_train)"
   ]
  },
  {
   "cell_type": "code",
   "execution_count": 11,
   "id": "282ccd07",
   "metadata": {},
   "outputs": [
    {
     "data": {
      "text/plain": [
       "(50000, 32, 32, 3)"
      ]
     },
     "execution_count": 11,
     "metadata": {},
     "output_type": "execute_result"
    }
   ],
   "source": [
    "x_train.shape"
   ]
  },
  {
   "cell_type": "code",
   "execution_count": 12,
   "id": "8613a570",
   "metadata": {},
   "outputs": [
    {
     "data": {
      "text/plain": [
       "<keras.layers.preprocessing.normalization.Normalization at 0x7f03a25fd490>"
      ]
     },
     "execution_count": 12,
     "metadata": {},
     "output_type": "execute_result"
    }
   ],
   "source": [
    "data_augmentation.layers[0]"
   ]
  },
  {
   "cell_type": "markdown",
   "id": "293626a5",
   "metadata": {},
   "source": [
    "### Implement multilayer perceptron (MLP)"
   ]
  },
  {
   "cell_type": "code",
   "execution_count": 13,
   "id": "2ec59e95",
   "metadata": {},
   "outputs": [],
   "source": [
    "def mlp(x, hidden_units, dropout_rate):\n",
    "    for units in hidden_units:\n",
    "        x = layers.Dense(units, activation=tf.nn.gelu)(x)\n",
    "        x = layers.Dropout(dropout_rate)(x)\n",
    "    return x"
   ]
  },
  {
   "cell_type": "markdown",
   "id": "4d14071a",
   "metadata": {},
   "source": [
    "### Implement patch creation as a layer"
   ]
  },
  {
   "cell_type": "code",
   "execution_count": 14,
   "id": "e601d754",
   "metadata": {},
   "outputs": [],
   "source": [
    "class Patches(layers.Layer):\n",
    "    def __init__(self, patch_size):\n",
    "        super(Patches, self).__init__()\n",
    "        self.patch_size = patch_size\n",
    "\n",
    "    def call(self, images):\n",
    "        batch_size = tf.shape(images)[0]\n",
    "        patches = tf.image.extract_patches(\n",
    "            images=images,\n",
    "            sizes=[1, self.patch_size, self.patch_size, 1],\n",
    "            strides=[1, self.patch_size, self.patch_size, 1],\n",
    "            rates=[1, 1, 1, 1],\n",
    "            padding=\"VALID\",\n",
    "        )\n",
    "        patch_dims = patches.shape[-1]\n",
    "        patches = tf.reshape(patches, [batch_size, -1, patch_dims])\n",
    "        return patches"
   ]
  },
  {
   "cell_type": "markdown",
   "id": "352ca663",
   "metadata": {},
   "source": [
    "Let's display patches for a sample image"
   ]
  },
  {
   "cell_type": "code",
   "execution_count": 15,
   "id": "fbca0fcb",
   "metadata": {},
   "outputs": [
    {
     "data": {
      "text/plain": [
       "(-0.5, 31.5, 31.5, -0.5)"
      ]
     },
     "execution_count": 15,
     "metadata": {},
     "output_type": "execute_result"
    },
    {
     "data": {
      "text/plain": [
       "<Figure size 288x288 with 0 Axes>"
      ]
     },
     "metadata": {},
     "output_type": "display_data"
    },
    {
     "data": {
      "image/png": "[encoded data removed]",
      "text/plain": [
       "<Figure size 900x600 with 1 Axes>"
      ]
     },
     "metadata": {
      "needs_background": "light"
     },
     "output_type": "display_data"
    }
   ],
   "source": [
    "dpi=150\n",
    "plt.figure(figsize=(4, 4))\n",
    "idx = 36044#np.random.choice(range(x_train.shape[0]))\n",
    "image = x_train[idx]\n",
    "lbl = y_train[idx]\n",
    "plt.figure(dpi=dpi)\n",
    "plt.imshow(image.astype(\"uint8\"))\n",
    "plt.axis(\"off\")\n",
    "#plt.title('#{}'.format(idx))\n",
    "#plt.title('#{} {}'.format(idx, lbl))"
   ]
  },
  {
   "cell_type": "code",
   "execution_count": 16,
   "id": "d3e997e3",
   "metadata": {},
   "outputs": [
    {
     "data": {
      "text/plain": [
       "72"
      ]
     },
     "execution_count": 16,
     "metadata": {},
     "output_type": "execute_result"
    }
   ],
   "source": [
    "image_size"
   ]
  },
  {
   "cell_type": "code",
   "execution_count": 17,
   "id": "f2475393",
   "metadata": {},
   "outputs": [
    {
     "name": "stdout",
     "output_type": "stream",
     "text": [
      "Image size: 72 X 72\n",
      "Patch size: 6 X 6\n",
      "Patches per image: 144\n",
      "Elements per patch: 108\n",
      "Patch shape : (1, 144, 108)\n"
     ]
    },
    {
     "data": {
      "image/png": "[encoded data removed]",
      "text/plain": [
       "<Figure size 600x600 with 144 Axes>"
      ]
     },
     "metadata": {
      "needs_background": "light"
     },
     "output_type": "display_data"
    }
   ],
   "source": [
    "resized_image = tf.image.resize(\n",
    "    tf.convert_to_tensor([image]), size=(image_size, image_size)\n",
    ")\n",
    "patches = Patches(patch_size)(resized_image)\n",
    "print(f\"Image size: {image_size} X {image_size}\")\n",
    "print(f\"Patch size: {patch_size} X {patch_size}\")\n",
    "print(f\"Patches per image: {patches.shape[1]}\")\n",
    "print(f\"Elements per patch: {patches.shape[-1]}\")\n",
    "print(f\"Patch shape : {patches.shape}\")\n",
    "n = int(np.sqrt(patches.shape[1]))\n",
    "plt.figure(dpi=dpi, figsize=(4, 4))\n",
    "for i, patch in enumerate(patches[0]):\n",
    "    ax = plt.subplot(n, n, i + 1)\n",
    "    patch_img = tf.reshape(patch, (patch_size, patch_size, 3))\n",
    "    plt.imshow(patch_img.numpy().astype(\"uint8\"))\n",
    "    plt.axis(\"off\")"
   ]
  },
  {
   "cell_type": "markdown",
   "id": "1f7c08a2",
   "metadata": {},
   "source": [
    "### Implement the patch encoding layer"
   ]
  },
  {
   "cell_type": "markdown",
   "id": "48ee59d1",
   "metadata": {},
   "source": [
    "The PatchEncoder layer will linearly transform a patch by projecting it into a vector of size projection_dim. In addition, it adds a learnable position embedding to the projected vector."
   ]
  },
  {
   "cell_type": "code",
   "execution_count": 18,
   "id": "ced8c80d",
   "metadata": {},
   "outputs": [
    {
     "data": {
      "text/plain": [
       "64"
      ]
     },
     "execution_count": 18,
     "metadata": {},
     "output_type": "execute_result"
    }
   ],
   "source": [
    "projection_dim"
   ]
  },
  {
   "cell_type": "code",
   "execution_count": 19,
   "id": "85c972ca",
   "metadata": {},
   "outputs": [],
   "source": [
    "class PatchEncoder(layers.Layer):\n",
    "    def __init__(self, num_patches, projection_dim):\n",
    "        super(PatchEncoder, self).__init__()\n",
    "        self.num_patches = num_patches\n",
    "        self.projection = layers.Dense(units=projection_dim)\n",
    "        self.position_embedding = layers.Embedding(\n",
    "            input_dim=num_patches, output_dim=projection_dim\n",
    "        )\n",
    "\n",
    "    def call(self, patch):\n",
    "        positions = tf.range(start=0, limit=self.num_patches, delta=1)\n",
    "        encoded = self.projection(patch) + self.position_embedding(positions)\n",
    "        return encoded"
   ]
  },
  {
   "cell_type": "code",
   "execution_count": 40,
   "id": "60a91c39",
   "metadata": {},
   "outputs": [
    {
     "name": "stdout",
     "output_type": "stream",
     "text": [
      "tf.Tensor(\n",
      "[  0   1   2   3   4   5   6   7   8   9  10  11  12  13  14  15  16  17\n",
      "  18  19  20  21  22  23  24  25  26  27  28  29  30  31  32  33  34  35\n",
      "  36  37  38  39  40  41  42  43  44  45  46  47  48  49  50  51  52  53\n",
      "  54  55  56  57  58  59  60  61  62  63  64  65  66  67  68  69  70  71\n",
      "  72  73  74  75  76  77  78  79  80  81  82  83  84  85  86  87  88  89\n",
      "  90  91  92  93  94  95  96  97  98  99 100 101 102 103 104 105 106 107\n",
      " 108 109 110 111 112 113 114 115 116 117 118 119 120 121 122 123 124 125\n",
      " 126 127 128 129 130 131 132 133 134 135 136 137 138 139 140 141 142 143], shape=(144,), dtype=int32)\n"
     ]
    }
   ],
   "source": [
    "positions_test = tf.range(start=0, limit=num_patches, delta=1)\n",
    "print(positions_test)"
   ]
  },
  {
   "cell_type": "code",
   "execution_count": 41,
   "id": "3eca568f",
   "metadata": {},
   "outputs": [],
   "source": [
    "position_embedding_test = layers.Embedding(input_dim=num_patches, output_dim=projection_dim)"
   ]
  },
  {
   "cell_type": "code",
   "execution_count": 43,
   "id": "00fb4311",
   "metadata": {},
   "outputs": [],
   "source": [
    "pos_emb1 = position_embedding_test(positions_test) #(144, 64)"
   ]
  },
  {
   "cell_type": "code",
   "execution_count": 44,
   "id": "80e09fc0",
   "metadata": {},
   "outputs": [
    {
     "data": {
      "text/plain": [
       "<tf.Tensor: shape=(144, 64), dtype=float32, numpy=\n",
       "array([[-0.01561905,  0.03400013, -0.03992522, ..., -0.00296396,\n",
       "         0.0452749 , -0.03156625],\n",
       "       [ 0.01513937, -0.01654874,  0.04863048, ...,  0.00084726,\n",
       "         0.04714931, -0.03171475],\n",
       "       [ 0.01042265, -0.02580911, -0.01691896, ...,  0.01557695,\n",
       "        -0.03865771, -0.0159236 ],\n",
       "       ...,\n",
       "       [-0.01866214,  0.0311905 ,  0.04214922, ...,  0.03878802,\n",
       "         0.04313629,  0.02638877],\n",
       "       [-0.02614763, -0.01206955,  0.03987905, ..., -0.04093392,\n",
       "         0.0306847 , -0.01962965],\n",
       "       [ 0.0447134 , -0.04426628, -0.03500896, ..., -0.03463876,\n",
       "         0.01104496, -0.00192903]], dtype=float32)>"
      ]
     },
     "execution_count": 44,
     "metadata": {},
     "output_type": "execute_result"
    }
   ],
   "source": [
    "pos_emb1"
   ]
  },
  {
   "cell_type": "markdown",
   "id": "4df490c1",
   "metadata": {},
   "source": [
    "### Build the ViT model"
   ]
  },
  {
   "cell_type": "markdown",
   "id": "cf910e18",
   "metadata": {},
   "source": [
    "The ViT model consists of multiple Transformer blocks, which use the layers.MultiHeadAttention layer as a self-attention mechanism applied to the sequence of patches. The Transformer blocks produce a <strong>[batch_size, num_patches, projection_dim]</strong> tensor, which is processed via an classifier head with softmax to produce the final class probabilities output.\n",
    "\n",
    "Unlike the technique described in the paper, which prepends a learnable embedding to the sequence of encoded patches to serve as the image representation, all the outputs of the final Transformer block are reshaped with layers.Flatten() and used as the image representation input to the classifier head. \n",
    "\n",
    "Note that the layers.GlobalAveragePooling1D layer could also be used instead to aggregate the outputs of the Transformer block, especially when the number of patches and the projection dimensions are large."
   ]
  },
  {
   "cell_type": "code",
   "execution_count": 20,
   "id": "634931d4",
   "metadata": {},
   "outputs": [
    {
     "data": {
      "text/plain": [
       "6"
      ]
     },
     "execution_count": 20,
     "metadata": {},
     "output_type": "execute_result"
    }
   ],
   "source": [
    "patch_size"
   ]
  },
  {
   "cell_type": "code",
   "execution_count": 35,
   "id": "82280e17",
   "metadata": {},
   "outputs": [
    {
     "data": {
      "text/plain": [
       "(32, 32, 3)"
      ]
     },
     "execution_count": 35,
     "metadata": {},
     "output_type": "execute_result"
    }
   ],
   "source": [
    "input_shape"
   ]
  },
  {
   "cell_type": "code",
   "execution_count": 34,
   "id": "c35a0845",
   "metadata": {},
   "outputs": [
    {
     "data": {
      "text/plain": [
       "(144, 64)"
      ]
     },
     "execution_count": 34,
     "metadata": {},
     "output_type": "execute_result"
    }
   ],
   "source": [
    "num_patches, projection_dim"
   ]
  },
  {
   "cell_type": "markdown",
   "id": "073fb46c",
   "metadata": {},
   "source": [
    "The Transformer blocks produce a [batch_size, num_patches, projection_dim] tensor. 이때 각 encoded_patches 는 \n",
    "```\n",
    "encoded_patches = PatchEncoder(num_patches, projection_dim)(patches)\n",
    "```\n",
    "(None, 144, 64) 의 shape을 가지게 됨. 각 patch 마다 64\n",
    "\n",
    "위의 PatchEncoder는 아래처럼 구성됨\n",
    "```\n",
    "positions = tf.range(start=0, limit=self.num_patches, delta=1)\n",
    "encoded = self.projection(patch) + self.position_embedding(positions)\n",
    "```"
   ]
  },
  {
   "cell_type": "code",
   "execution_count": 21,
   "id": "ed181f44",
   "metadata": {},
   "outputs": [
    {
     "data": {
      "text/plain": [
       "8"
      ]
     },
     "execution_count": 21,
     "metadata": {},
     "output_type": "execute_result"
    }
   ],
   "source": [
    "transformer_layers"
   ]
  },
  {
   "cell_type": "code",
   "execution_count": 36,
   "id": "41a863db",
   "metadata": {},
   "outputs": [],
   "source": [
    "def create_vit_classifier():\n",
    "    inputs = layers.Input(shape=input_shape)\n",
    "    # Augment data.\n",
    "    augmented = data_augmentation(inputs)\n",
    "    # Create patches.\n",
    "    patches = Patches(patch_size)(augmented)\n",
    "    # Encode patches.\n",
    "    encoded_patches = PatchEncoder(num_patches, projection_dim)(patches)\n",
    "    # (None, 144, 64)\n",
    "    # print(encoded_patches.shape) \n",
    "    \n",
    "    # Create multiple layers of the Transformer block.\n",
    "    for _ in range(transformer_layers):\n",
    "        # Layer normalization 1.\n",
    "        x1 = layers.LayerNormalization(epsilon=1e-6)(encoded_patches) # (None, 144, 64)\n",
    "        \n",
    "        # Create a multi-head attention layer.\n",
    "        attention_output = layers.MultiHeadAttention(\n",
    "            num_heads=num_heads, key_dim=projection_dim, dropout=0.1\n",
    "        )(x1, x1)\n",
    "        # Skip connection 1.\n",
    "        x2 = layers.Add()([attention_output, encoded_patches])\n",
    "        # Layer normalization 2.\n",
    "        x3 = layers.LayerNormalization(epsilon=1e-6)(x2)\n",
    "        # MLP.\n",
    "        x3 = mlp(x3, hidden_units=transformer_units, dropout_rate=0.1)\n",
    "        # Skip connection 2.\n",
    "        encoded_patches = layers.Add()([x3, x2])\n",
    "\n",
    "    # Create a [batch_size, projection_dim] tensor.\n",
    "    representation = layers.LayerNormalization(epsilon=1e-6)(encoded_patches)\n",
    "    representation = layers.Flatten()(representation)\n",
    "    representation = layers.Dropout(0.5)(representation)\n",
    "    # Add MLP.\n",
    "    features = mlp(representation, hidden_units=mlp_head_units, dropout_rate=0.5)\n",
    "    # Classify outputs.\n",
    "    logits = layers.Dense(num_classes)(features)\n",
    "    # Create the Keras model.\n",
    "    model = keras.Model(inputs=inputs, outputs=logits)\n",
    "    return model"
   ]
  },
  {
   "cell_type": "markdown",
   "id": "abf2c555",
   "metadata": {},
   "source": [
    "### Compile, train, and evaluate the mode"
   ]
  },
  {
   "cell_type": "code",
   "execution_count": 37,
   "id": "b7eecbe3",
   "metadata": {},
   "outputs": [],
   "source": [
    "def run_experiment(model):\n",
    "    optimizer = tfa.optimizers.AdamW(\n",
    "        learning_rate=learning_rate, weight_decay=weight_decay\n",
    "    )\n",
    "\n",
    "    model.compile(\n",
    "        optimizer=optimizer,\n",
    "        loss=keras.losses.SparseCategoricalCrossentropy(from_logits=True),\n",
    "        metrics=[\n",
    "            keras.metrics.SparseCategoricalAccuracy(name=\"accuracy\"),\n",
    "            keras.metrics.SparseTopKCategoricalAccuracy(5, name=\"top-5-accuracy\"),\n",
    "        ],\n",
    "    )\n",
    "\n",
    "    checkpoint_filepath = \"/tmp/checkpoint\"\n",
    "    checkpoint_callback = keras.callbacks.ModelCheckpoint(\n",
    "        checkpoint_filepath,\n",
    "        monitor=\"val_accuracy\",\n",
    "        save_best_only=True,\n",
    "        save_weights_only=True,\n",
    "    )\n",
    "\n",
    "    history = model.fit(\n",
    "        x=x_train,\n",
    "        y=y_train,\n",
    "        batch_size=batch_size,\n",
    "        epochs=num_epochs,\n",
    "        validation_split=0.1,\n",
    "        callbacks=[checkpoint_callback],\n",
    "    )\n",
    "\n",
    "    model.load_weights(checkpoint_filepath)\n",
    "    _, accuracy, top_5_accuracy = model.evaluate(x_test, y_test)\n",
    "    print(f\"Test accuracy: {round(accuracy * 100, 2)}%\")\n",
    "    print(f\"Test top 5 accuracy: {round(top_5_accuracy * 100, 2)}%\")\n",
    "\n",
    "    return history"
   ]
  },
  {
   "cell_type": "code",
   "execution_count": 38,
   "id": "9befbb2d",
   "metadata": {},
   "outputs": [
    {
     "name": "stdout",
     "output_type": "stream",
     "text": [
      "(None, 144, 64)\n"
     ]
    }
   ],
   "source": [
    "vit_classifier = create_vit_classifier()"
   ]
  },
  {
   "cell_type": "code",
   "execution_count": 25,
   "id": "1c4b99b4",
   "metadata": {},
   "outputs": [
    {
     "name": "stdout",
     "output_type": "stream",
     "text": [
      "Epoch 1/100\n",
      "176/176 [==============================] - 54s 261ms/step - loss: 4.4765 - accuracy: 0.0458 - top-5-accuracy: 0.1570 - val_loss: 3.9514 - val_accuracy: 0.0994 - val_top-5-accuracy: 0.2926\n",
      "Epoch 2/100\n",
      "176/176 [==============================] - 46s 259ms/step - loss: 3.9513 - accuracy: 0.0940 - top-5-accuracy: 0.2878 - val_loss: 3.5752 - val_accuracy: 0.1574 - val_top-5-accuracy: 0.4080\n",
      "Epoch 3/100\n",
      "176/176 [==============================] - 46s 261ms/step - loss: 3.6986 - accuracy: 0.1298 - top-5-accuracy: 0.3649 - val_loss: 3.3491 - val_accuracy: 0.1870 - val_top-5-accuracy: 0.4634\n",
      "Epoch 4/100\n",
      "176/176 [==============================] - 47s 265ms/step - loss: 3.5300 - accuracy: 0.1599 - top-5-accuracy: 0.4134 - val_loss: 3.1996 - val_accuracy: 0.2216 - val_top-5-accuracy: 0.5024\n",
      "Epoch 5/100\n",
      "176/176 [==============================] - 47s 265ms/step - loss: 3.3862 - accuracy: 0.1839 - top-5-accuracy: 0.4577 - val_loss: 3.0759 - val_accuracy: 0.2468 - val_top-5-accuracy: 0.5394\n",
      "Epoch 6/100\n",
      "176/176 [==============================] - 45s 257ms/step - loss: 3.2795 - accuracy: 0.2009 - top-5-accuracy: 0.4834 - val_loss: 3.0496 - val_accuracy: 0.2466 - val_top-5-accuracy: 0.5512\n",
      "Epoch 7/100\n",
      "176/176 [==============================] - 46s 264ms/step - loss: 3.1536 - accuracy: 0.2267 - top-5-accuracy: 0.5147 - val_loss: 2.9265 - val_accuracy: 0.2746 - val_top-5-accuracy: 0.5718\n",
      "Epoch 8/100\n",
      "176/176 [==============================] - 47s 266ms/step - loss: 3.0502 - accuracy: 0.2489 - top-5-accuracy: 0.5420 - val_loss: 2.8202 - val_accuracy: 0.3022 - val_top-5-accuracy: 0.6002\n",
      "Epoch 9/100\n",
      "176/176 [==============================] - 46s 264ms/step - loss: 2.9426 - accuracy: 0.2676 - top-5-accuracy: 0.5720 - val_loss: 2.6716 - val_accuracy: 0.3260 - val_top-5-accuracy: 0.6296\n",
      "Epoch 10/100\n",
      "176/176 [==============================] - 47s 264ms/step - loss: 2.8335 - accuracy: 0.2890 - top-5-accuracy: 0.5959 - val_loss: 2.6353 - val_accuracy: 0.3394 - val_top-5-accuracy: 0.6384\n",
      "Epoch 11/100\n",
      "176/176 [==============================] - 47s 266ms/step - loss: 2.7351 - accuracy: 0.3082 - top-5-accuracy: 0.6158 - val_loss: 2.5231 - val_accuracy: 0.3562 - val_top-5-accuracy: 0.6656\n",
      "Epoch 12/100\n",
      "176/176 [==============================] - 46s 264ms/step - loss: 2.6605 - accuracy: 0.3232 - top-5-accuracy: 0.6338 - val_loss: 2.4334 - val_accuracy: 0.3772 - val_top-5-accuracy: 0.6836\n",
      "Epoch 13/100\n",
      "176/176 [==============================] - 45s 257ms/step - loss: 2.5801 - accuracy: 0.3403 - top-5-accuracy: 0.6533 - val_loss: 2.4505 - val_accuracy: 0.3732 - val_top-5-accuracy: 0.6736\n",
      "Epoch 14/100\n",
      "176/176 [==============================] - 46s 264ms/step - loss: 2.5032 - accuracy: 0.3564 - top-5-accuracy: 0.6718 - val_loss: 2.3506 - val_accuracy: 0.3952 - val_top-5-accuracy: 0.7012\n",
      "Epoch 15/100\n",
      "176/176 [==============================] - 47s 265ms/step - loss: 2.4382 - accuracy: 0.3716 - top-5-accuracy: 0.6822 - val_loss: 2.2953 - val_accuracy: 0.4008 - val_top-5-accuracy: 0.7054\n",
      "Epoch 16/100\n",
      "176/176 [==============================] - 47s 266ms/step - loss: 2.3617 - accuracy: 0.3867 - top-5-accuracy: 0.7024 - val_loss: 2.2481 - val_accuracy: 0.4166 - val_top-5-accuracy: 0.7192\n",
      "Epoch 17/100\n",
      "176/176 [==============================] - 47s 265ms/step - loss: 2.3051 - accuracy: 0.3979 - top-5-accuracy: 0.7115 - val_loss: 2.2232 - val_accuracy: 0.4268 - val_top-5-accuracy: 0.7186\n",
      "Epoch 18/100\n",
      "176/176 [==============================] - 47s 264ms/step - loss: 2.2394 - accuracy: 0.4106 - top-5-accuracy: 0.7274 - val_loss: 2.1853 - val_accuracy: 0.4388 - val_top-5-accuracy: 0.7312\n",
      "Epoch 19/100\n",
      "176/176 [==============================] - 47s 266ms/step - loss: 2.2017 - accuracy: 0.4179 - top-5-accuracy: 0.7338 - val_loss: 2.1529 - val_accuracy: 0.4412 - val_top-5-accuracy: 0.7344\n",
      "Epoch 20/100\n",
      "176/176 [==============================] - 47s 266ms/step - loss: 2.1391 - accuracy: 0.4366 - top-5-accuracy: 0.7450 - val_loss: 2.1570 - val_accuracy: 0.4420 - val_top-5-accuracy: 0.7368\n",
      "Epoch 21/100\n",
      "176/176 [==============================] - 47s 267ms/step - loss: 2.0842 - accuracy: 0.4447 - top-5-accuracy: 0.7562 - val_loss: 2.0922 - val_accuracy: 0.4492 - val_top-5-accuracy: 0.7488\n",
      "Epoch 22/100\n",
      "176/176 [==============================] - 47s 266ms/step - loss: 2.0456 - accuracy: 0.4508 - top-5-accuracy: 0.7652 - val_loss: 2.1025 - val_accuracy: 0.4528 - val_top-5-accuracy: 0.7482\n",
      "Epoch 23/100\n",
      "176/176 [==============================] - 47s 266ms/step - loss: 1.9882 - accuracy: 0.4662 - top-5-accuracy: 0.7757 - val_loss: 2.0740 - val_accuracy: 0.4596 - val_top-5-accuracy: 0.7526\n",
      "Epoch 24/100\n",
      "176/176 [==============================] - 47s 266ms/step - loss: 1.9398 - accuracy: 0.4794 - top-5-accuracy: 0.7846 - val_loss: 2.0280 - val_accuracy: 0.4648 - val_top-5-accuracy: 0.7588\n",
      "Epoch 25/100\n",
      "176/176 [==============================] - 47s 267ms/step - loss: 1.8985 - accuracy: 0.4879 - top-5-accuracy: 0.7941 - val_loss: 2.0178 - val_accuracy: 0.4670 - val_top-5-accuracy: 0.7662\n",
      "Epoch 26/100\n",
      "176/176 [==============================] - 47s 266ms/step - loss: 1.8517 - accuracy: 0.4950 - top-5-accuracy: 0.8013 - val_loss: 2.0043 - val_accuracy: 0.4726 - val_top-5-accuracy: 0.7640\n",
      "Epoch 27/100\n",
      "176/176 [==============================] - 47s 267ms/step - loss: 1.8096 - accuracy: 0.5076 - top-5-accuracy: 0.8088 - val_loss: 1.9799 - val_accuracy: 0.4778 - val_top-5-accuracy: 0.7784\n",
      "Epoch 28/100\n",
      "176/176 [==============================] - 47s 266ms/step - loss: 1.7521 - accuracy: 0.5203 - top-5-accuracy: 0.8194 - val_loss: 1.9920 - val_accuracy: 0.4832 - val_top-5-accuracy: 0.7664\n",
      "Epoch 29/100\n",
      "176/176 [==============================] - 47s 267ms/step - loss: 1.7219 - accuracy: 0.5288 - top-5-accuracy: 0.8261 - val_loss: 1.9391 - val_accuracy: 0.4958 - val_top-5-accuracy: 0.7820\n",
      "Epoch 30/100\n",
      "176/176 [==============================] - 46s 259ms/step - loss: 1.6814 - accuracy: 0.5383 - top-5-accuracy: 0.8329 - val_loss: 1.9775 - val_accuracy: 0.4862 - val_top-5-accuracy: 0.7760\n",
      "Epoch 31/100\n",
      "176/176 [==============================] - 45s 257ms/step - loss: 1.6416 - accuracy: 0.5449 - top-5-accuracy: 0.8397 - val_loss: 1.9371 - val_accuracy: 0.4934 - val_top-5-accuracy: 0.7802\n",
      "Epoch 32/100\n",
      "176/176 [==============================] - 45s 256ms/step - loss: 1.6029 - accuracy: 0.5547 - top-5-accuracy: 0.8466 - val_loss: 1.9404 - val_accuracy: 0.4942 - val_top-5-accuracy: 0.7794\n",
      "Epoch 33/100\n",
      "176/176 [==============================] - 45s 256ms/step - loss: 1.5781 - accuracy: 0.5597 - top-5-accuracy: 0.8509 - val_loss: 1.9488 - val_accuracy: 0.4946 - val_top-5-accuracy: 0.7756\n",
      "Epoch 34/100\n",
      "176/176 [==============================] - 47s 266ms/step - loss: 1.5506 - accuracy: 0.5641 - top-5-accuracy: 0.8541 - val_loss: 1.9147 - val_accuracy: 0.5006 - val_top-5-accuracy: 0.7812\n",
      "Epoch 35/100\n",
      "176/176 [==============================] - 47s 266ms/step - loss: 1.5177 - accuracy: 0.5741 - top-5-accuracy: 0.8596 - val_loss: 1.9136 - val_accuracy: 0.5050 - val_top-5-accuracy: 0.7902\n",
      "Epoch 36/100\n",
      "176/176 [==============================] - 45s 256ms/step - loss: 1.4952 - accuracy: 0.5805 - top-5-accuracy: 0.8631 - val_loss: 1.9250 - val_accuracy: 0.5016 - val_top-5-accuracy: 0.7824\n",
      "Epoch 37/100\n",
      "176/176 [==============================] - 45s 256ms/step - loss: 1.4614 - accuracy: 0.5857 - top-5-accuracy: 0.8704 - val_loss: 1.9132 - val_accuracy: 0.5042 - val_top-5-accuracy: 0.7904\n",
      "Epoch 38/100\n",
      "176/176 [==============================] - 45s 256ms/step - loss: 1.4352 - accuracy: 0.5926 - top-5-accuracy: 0.8736 - val_loss: 1.9208 - val_accuracy: 0.4998 - val_top-5-accuracy: 0.7898\n",
      "Epoch 39/100\n",
      "176/176 [==============================] - 46s 264ms/step - loss: 1.4000 - accuracy: 0.6036 - top-5-accuracy: 0.8790 - val_loss: 1.8719 - val_accuracy: 0.5142 - val_top-5-accuracy: 0.7982\n",
      "Epoch 40/100\n",
      "176/176 [==============================] - 47s 265ms/step - loss: 1.3776 - accuracy: 0.6102 - top-5-accuracy: 0.8835 - val_loss: 1.8823 - val_accuracy: 0.5158 - val_top-5-accuracy: 0.7972\n",
      "Epoch 41/100\n",
      "176/176 [==============================] - 45s 257ms/step - loss: 1.3533 - accuracy: 0.6121 - top-5-accuracy: 0.8874 - val_loss: 1.8882 - val_accuracy: 0.5138 - val_top-5-accuracy: 0.7950\n"
     ]
    },
    {
     "name": "stdout",
     "output_type": "stream",
     "text": [
      "Epoch 42/100\n",
      "176/176 [==============================] - 45s 256ms/step - loss: 1.3345 - accuracy: 0.6194 - top-5-accuracy: 0.8898 - val_loss: 1.9215 - val_accuracy: 0.5144 - val_top-5-accuracy: 0.7974\n",
      "Epoch 43/100\n",
      "176/176 [==============================] - 47s 265ms/step - loss: 1.3180 - accuracy: 0.6238 - top-5-accuracy: 0.8902 - val_loss: 1.8753 - val_accuracy: 0.5212 - val_top-5-accuracy: 0.7972\n",
      "Epoch 44/100\n",
      "176/176 [==============================] - 45s 257ms/step - loss: 1.2898 - accuracy: 0.6286 - top-5-accuracy: 0.8960 - val_loss: 1.9118 - val_accuracy: 0.5148 - val_top-5-accuracy: 0.7912\n",
      "Epoch 45/100\n",
      "176/176 [==============================] - 45s 256ms/step - loss: 1.2642 - accuracy: 0.6358 - top-5-accuracy: 0.9004 - val_loss: 1.8691 - val_accuracy: 0.5196 - val_top-5-accuracy: 0.7978\n",
      "Epoch 46/100\n",
      "176/176 [==============================] - 47s 265ms/step - loss: 1.2587 - accuracy: 0.6368 - top-5-accuracy: 0.9010 - val_loss: 1.8575 - val_accuracy: 0.5228 - val_top-5-accuracy: 0.8010\n",
      "Epoch 47/100\n",
      "176/176 [==============================] - 47s 264ms/step - loss: 1.2233 - accuracy: 0.6450 - top-5-accuracy: 0.9075 - val_loss: 1.8835 - val_accuracy: 0.5240 - val_top-5-accuracy: 0.8006\n",
      "Epoch 48/100\n",
      "176/176 [==============================] - 45s 258ms/step - loss: 1.2269 - accuracy: 0.6432 - top-5-accuracy: 0.9075 - val_loss: 1.8875 - val_accuracy: 0.5206 - val_top-5-accuracy: 0.7982\n",
      "Epoch 49/100\n",
      "176/176 [==============================] - 45s 256ms/step - loss: 1.1968 - accuracy: 0.6508 - top-5-accuracy: 0.9104 - val_loss: 1.8798 - val_accuracy: 0.5222 - val_top-5-accuracy: 0.8032\n",
      "Epoch 50/100\n",
      "176/176 [==============================] - 47s 264ms/step - loss: 1.1774 - accuracy: 0.6580 - top-5-accuracy: 0.9124 - val_loss: 1.8575 - val_accuracy: 0.5252 - val_top-5-accuracy: 0.7998\n",
      "Epoch 51/100\n",
      "176/176 [==============================] - 47s 264ms/step - loss: 1.1693 - accuracy: 0.6596 - top-5-accuracy: 0.9147 - val_loss: 1.8514 - val_accuracy: 0.5308 - val_top-5-accuracy: 0.8020\n",
      "Epoch 52/100\n",
      "176/176 [==============================] - 46s 260ms/step - loss: 1.1516 - accuracy: 0.6639 - top-5-accuracy: 0.9168 - val_loss: 1.8584 - val_accuracy: 0.5234 - val_top-5-accuracy: 0.7998\n",
      "Epoch 53/100\n",
      "176/176 [==============================] - 45s 256ms/step - loss: 1.1362 - accuracy: 0.6670 - top-5-accuracy: 0.9199 - val_loss: 1.8973 - val_accuracy: 0.5214 - val_top-5-accuracy: 0.7996\n",
      "Epoch 54/100\n",
      "176/176 [==============================] - 45s 258ms/step - loss: 1.1267 - accuracy: 0.6703 - top-5-accuracy: 0.9199 - val_loss: 1.8637 - val_accuracy: 0.5248 - val_top-5-accuracy: 0.8040\n",
      "Epoch 55/100\n",
      "176/176 [==============================] - 46s 259ms/step - loss: 1.1179 - accuracy: 0.6716 - top-5-accuracy: 0.9227 - val_loss: 1.8683 - val_accuracy: 0.5264 - val_top-5-accuracy: 0.7952\n",
      "Epoch 56/100\n",
      "176/176 [==============================] - 45s 257ms/step - loss: 1.0865 - accuracy: 0.6836 - top-5-accuracy: 0.9242 - val_loss: 1.8643 - val_accuracy: 0.5304 - val_top-5-accuracy: 0.8008\n",
      "Epoch 57/100\n",
      "176/176 [==============================] - 46s 263ms/step - loss: 1.0816 - accuracy: 0.6828 - top-5-accuracy: 0.9251 - val_loss: 1.8943 - val_accuracy: 0.5316 - val_top-5-accuracy: 0.8014\n",
      "Epoch 58/100\n",
      "176/176 [==============================] - 47s 265ms/step - loss: 1.0603 - accuracy: 0.6878 - top-5-accuracy: 0.9279 - val_loss: 1.8873 - val_accuracy: 0.5322 - val_top-5-accuracy: 0.8054\n",
      "Epoch 59/100\n",
      "176/176 [==============================] - 45s 257ms/step - loss: 1.0618 - accuracy: 0.6877 - top-5-accuracy: 0.9289 - val_loss: 1.8650 - val_accuracy: 0.5318 - val_top-5-accuracy: 0.8064\n",
      "Epoch 60/100\n",
      "176/176 [==============================] - 45s 256ms/step - loss: 1.0418 - accuracy: 0.6946 - top-5-accuracy: 0.9318 - val_loss: 1.8901 - val_accuracy: 0.5294 - val_top-5-accuracy: 0.7988\n",
      "Epoch 61/100\n",
      "176/176 [==============================] - 46s 264ms/step - loss: 1.0324 - accuracy: 0.6964 - top-5-accuracy: 0.9332 - val_loss: 1.8746 - val_accuracy: 0.5338 - val_top-5-accuracy: 0.8040\n",
      "Epoch 62/100\n",
      "176/176 [==============================] - 45s 258ms/step - loss: 1.0261 - accuracy: 0.6958 - top-5-accuracy: 0.9330 - val_loss: 1.8806 - val_accuracy: 0.5324 - val_top-5-accuracy: 0.8034\n",
      "Epoch 63/100\n",
      "176/176 [==============================] - 45s 256ms/step - loss: 1.0105 - accuracy: 0.6996 - top-5-accuracy: 0.9349 - val_loss: 1.8717 - val_accuracy: 0.5318 - val_top-5-accuracy: 0.8048\n",
      "Epoch 64/100\n",
      "176/176 [==============================] - 45s 258ms/step - loss: 1.0122 - accuracy: 0.7021 - top-5-accuracy: 0.9351 - val_loss: 1.8975 - val_accuracy: 0.5308 - val_top-5-accuracy: 0.8054\n",
      "Epoch 65/100\n",
      "176/176 [==============================] - 47s 266ms/step - loss: 0.9826 - accuracy: 0.7095 - top-5-accuracy: 0.9387 - val_loss: 1.8812 - val_accuracy: 0.5356 - val_top-5-accuracy: 0.7996\n",
      "Epoch 66/100\n",
      "176/176 [==============================] - 45s 257ms/step - loss: 0.9908 - accuracy: 0.7088 - top-5-accuracy: 0.9372 - val_loss: 1.8788 - val_accuracy: 0.5336 - val_top-5-accuracy: 0.7994\n",
      "Epoch 67/100\n",
      "176/176 [==============================] - 45s 257ms/step - loss: 0.9701 - accuracy: 0.7136 - top-5-accuracy: 0.9395 - val_loss: 1.8913 - val_accuracy: 0.5324 - val_top-5-accuracy: 0.8054\n",
      "Epoch 68/100\n",
      "176/176 [==============================] - 45s 256ms/step - loss: 0.9616 - accuracy: 0.7153 - top-5-accuracy: 0.9413 - val_loss: 1.8946 - val_accuracy: 0.5254 - val_top-5-accuracy: 0.8000\n",
      "Epoch 69/100\n",
      "176/176 [==============================] - 45s 255ms/step - loss: 0.9550 - accuracy: 0.7183 - top-5-accuracy: 0.9428 - val_loss: 1.9313 - val_accuracy: 0.5294 - val_top-5-accuracy: 0.8004\n",
      "Epoch 70/100\n",
      "176/176 [==============================] - 46s 264ms/step - loss: 0.9431 - accuracy: 0.7202 - top-5-accuracy: 0.9433 - val_loss: 1.9227 - val_accuracy: 0.5386 - val_top-5-accuracy: 0.8000\n",
      "Epoch 71/100\n",
      "176/176 [==============================] - 45s 258ms/step - loss: 0.9439 - accuracy: 0.7200 - top-5-accuracy: 0.9438 - val_loss: 1.9157 - val_accuracy: 0.5346 - val_top-5-accuracy: 0.8108\n",
      "Epoch 72/100\n",
      "176/176 [==============================] - 45s 257ms/step - loss: 0.9321 - accuracy: 0.7220 - top-5-accuracy: 0.9448 - val_loss: 1.8904 - val_accuracy: 0.5382 - val_top-5-accuracy: 0.8050\n",
      "Epoch 73/100\n",
      "176/176 [==============================] - 45s 255ms/step - loss: 0.9174 - accuracy: 0.7270 - top-5-accuracy: 0.9461 - val_loss: 1.9192 - val_accuracy: 0.5308 - val_top-5-accuracy: 0.7970\n",
      "Epoch 74/100\n",
      "176/176 [==============================] - 47s 268ms/step - loss: 0.9149 - accuracy: 0.7288 - top-5-accuracy: 0.9449 - val_loss: 1.9197 - val_accuracy: 0.5390 - val_top-5-accuracy: 0.8052\n",
      "Epoch 75/100\n",
      "176/176 [==============================] - 45s 256ms/step - loss: 0.9014 - accuracy: 0.7338 - top-5-accuracy: 0.9481 - val_loss: 1.9023 - val_accuracy: 0.5362 - val_top-5-accuracy: 0.8022\n",
      "Epoch 76/100\n",
      "176/176 [==============================] - 47s 264ms/step - loss: 0.9100 - accuracy: 0.7283 - top-5-accuracy: 0.9473 - val_loss: 1.8853 - val_accuracy: 0.5408 - val_top-5-accuracy: 0.8068\n",
      "Epoch 77/100\n",
      "176/176 [==============================] - 45s 258ms/step - loss: 0.8962 - accuracy: 0.7315 - top-5-accuracy: 0.9490 - val_loss: 1.8818 - val_accuracy: 0.5408 - val_top-5-accuracy: 0.8046\n",
      "Epoch 78/100\n",
      "176/176 [==============================] - 46s 259ms/step - loss: 0.8831 - accuracy: 0.7367 - top-5-accuracy: 0.9486 - val_loss: 1.9627 - val_accuracy: 0.5330 - val_top-5-accuracy: 0.8014\n",
      "Epoch 79/100\n",
      "176/176 [==============================] - 47s 265ms/step - loss: 0.8717 - accuracy: 0.7406 - top-5-accuracy: 0.9506 - val_loss: 1.9256 - val_accuracy: 0.5412 - val_top-5-accuracy: 0.8034\n",
      "Epoch 80/100\n",
      "176/176 [==============================] - 45s 257ms/step - loss: 0.8640 - accuracy: 0.7411 - top-5-accuracy: 0.9506 - val_loss: 1.9743 - val_accuracy: 0.5392 - val_top-5-accuracy: 0.8056\n",
      "Epoch 81/100\n",
      "176/176 [==============================] - 46s 264ms/step - loss: 0.8711 - accuracy: 0.7411 - top-5-accuracy: 0.9516 - val_loss: 1.8913 - val_accuracy: 0.5420 - val_top-5-accuracy: 0.8072\n",
      "Epoch 82/100\n",
      "176/176 [==============================] - 45s 258ms/step - loss: 0.8611 - accuracy: 0.7410 - top-5-accuracy: 0.9519 - val_loss: 1.9197 - val_accuracy: 0.5392 - val_top-5-accuracy: 0.8008\n"
     ]
    },
    {
     "name": "stdout",
     "output_type": "stream",
     "text": [
      "Epoch 83/100\n",
      "176/176 [==============================] - 47s 265ms/step - loss: 0.8615 - accuracy: 0.7429 - top-5-accuracy: 0.9520 - val_loss: 1.9106 - val_accuracy: 0.5432 - val_top-5-accuracy: 0.8084\n",
      "Epoch 84/100\n",
      "176/176 [==============================] - 47s 266ms/step - loss: 0.8389 - accuracy: 0.7484 - top-5-accuracy: 0.9537 - val_loss: 1.9071 - val_accuracy: 0.5464 - val_top-5-accuracy: 0.8058\n",
      "Epoch 85/100\n",
      "176/176 [==============================] - 45s 258ms/step - loss: 0.8446 - accuracy: 0.7466 - top-5-accuracy: 0.9554 - val_loss: 1.9169 - val_accuracy: 0.5416 - val_top-5-accuracy: 0.8078\n",
      "Epoch 86/100\n",
      "176/176 [==============================] - 45s 256ms/step - loss: 0.8401 - accuracy: 0.7500 - top-5-accuracy: 0.9556 - val_loss: 1.9342 - val_accuracy: 0.5376 - val_top-5-accuracy: 0.8042\n",
      "Epoch 87/100\n",
      "176/176 [==============================] - 45s 256ms/step - loss: 0.8336 - accuracy: 0.7511 - top-5-accuracy: 0.9559 - val_loss: 1.9242 - val_accuracy: 0.5460 - val_top-5-accuracy: 0.8082\n",
      "Epoch 88/100\n",
      "176/176 [==============================] - 45s 255ms/step - loss: 0.8198 - accuracy: 0.7543 - top-5-accuracy: 0.9565 - val_loss: 1.9213 - val_accuracy: 0.5406 - val_top-5-accuracy: 0.8024\n",
      "Epoch 89/100\n",
      "176/176 [==============================] - 45s 256ms/step - loss: 0.8316 - accuracy: 0.7536 - top-5-accuracy: 0.9552 - val_loss: 1.9006 - val_accuracy: 0.5374 - val_top-5-accuracy: 0.8086\n",
      "Epoch 90/100\n",
      "176/176 [==============================] - 45s 255ms/step - loss: 0.8126 - accuracy: 0.7565 - top-5-accuracy: 0.9578 - val_loss: 1.9467 - val_accuracy: 0.5366 - val_top-5-accuracy: 0.8066\n",
      "Epoch 91/100\n",
      "176/176 [==============================] - 45s 255ms/step - loss: 0.8139 - accuracy: 0.7567 - top-5-accuracy: 0.9561 - val_loss: 1.9493 - val_accuracy: 0.5348 - val_top-5-accuracy: 0.8030\n",
      "Epoch 92/100\n",
      "176/176 [==============================] - 46s 260ms/step - loss: 0.8144 - accuracy: 0.7560 - top-5-accuracy: 0.9576 - val_loss: 1.9415 - val_accuracy: 0.5348 - val_top-5-accuracy: 0.8108\n",
      "Epoch 93/100\n",
      "176/176 [==============================] - 45s 257ms/step - loss: 0.8114 - accuracy: 0.7584 - top-5-accuracy: 0.9562 - val_loss: 1.9575 - val_accuracy: 0.5364 - val_top-5-accuracy: 0.8010\n",
      "Epoch 94/100\n",
      "176/176 [==============================] - 45s 256ms/step - loss: 0.8012 - accuracy: 0.7579 - top-5-accuracy: 0.9596 - val_loss: 1.9344 - val_accuracy: 0.5344 - val_top-5-accuracy: 0.7998\n",
      "Epoch 95/100\n",
      "176/176 [==============================] - 45s 256ms/step - loss: 0.8027 - accuracy: 0.7600 - top-5-accuracy: 0.9573 - val_loss: 1.9178 - val_accuracy: 0.5408 - val_top-5-accuracy: 0.8104\n",
      "Epoch 96/100\n",
      "176/176 [==============================] - 45s 256ms/step - loss: 0.7945 - accuracy: 0.7623 - top-5-accuracy: 0.9582 - val_loss: 1.9477 - val_accuracy: 0.5388 - val_top-5-accuracy: 0.8094\n",
      "Epoch 97/100\n",
      "176/176 [==============================] - 45s 255ms/step - loss: 0.7900 - accuracy: 0.7640 - top-5-accuracy: 0.9599 - val_loss: 1.9505 - val_accuracy: 0.5404 - val_top-5-accuracy: 0.8072\n",
      "Epoch 98/100\n",
      "176/176 [==============================] - 45s 255ms/step - loss: 0.7907 - accuracy: 0.7601 - top-5-accuracy: 0.9590 - val_loss: 1.9496 - val_accuracy: 0.5340 - val_top-5-accuracy: 0.8028\n",
      "Epoch 99/100\n",
      "176/176 [==============================] - 45s 255ms/step - loss: 0.7851 - accuracy: 0.7648 - top-5-accuracy: 0.9594 - val_loss: 1.9335 - val_accuracy: 0.5462 - val_top-5-accuracy: 0.8132\n",
      "Epoch 100/100\n",
      "176/176 [==============================] - 45s 255ms/step - loss: 0.7732 - accuracy: 0.7671 - top-5-accuracy: 0.9601 - val_loss: 1.9730 - val_accuracy: 0.5384 - val_top-5-accuracy: 0.7986\n",
      "313/313 [==============================] - 7s 21ms/step - loss: 1.8510 - accuracy: 0.5488 - top-5-accuracy: 0.8149\n",
      "Test accuracy: 54.88%\n",
      "Test top 5 accuracy: 81.49%\n"
     ]
    }
   ],
   "source": [
    "history = run_experiment(vit_classifier)"
   ]
  },
  {
   "cell_type": "markdown",
   "id": "00aa72c9",
   "metadata": {},
   "source": [
    "After 100 epochs, the ViT model achieves around 55% accuracy and 82% top-5 accuracy on the test data. These are not competitive results on the CIFAR-100 dataset, as a ResNet50V2 trained from scratch on the same data can achieve 67% accuracy.\n",
    "\n",
    "Note that the state of the art results reported in the paper are achieved by pre-training the ViT model using the JFT-300M dataset, then fine-tuning it on the target dataset. To improve the model quality without pre-training, you can try to train the model for more epochs, use a larger number of Transformer layers, resize the input images, change the patch size, or increase the projection dimensions. Besides, as mentioned in the paper, the quality of the model is affected not only by architecture choices, but also by parameters such as the learning rate schedule, optimizer, weight decay, etc. In practice, it's recommended to fine-tune a ViT model that was pre-trained using a large, high-resolution dataset."
   ]
  },
  {
   "cell_type": "code",
   "execution_count": 26,
   "id": "2748340c",
   "metadata": {},
   "outputs": [
    {
     "data": {
      "text/plain": [
       "[<matplotlib.lines.Line2D at 0x7f002a43d190>]"
      ]
     },
     "execution_count": 26,
     "metadata": {},
     "output_type": "execute_result"
    },
    {
     "data": {
      "image/png": "[encoded data removed]",
      "text/plain": [
       "<Figure size 540x360 with 1 Axes>"
      ]
     },
     "metadata": {
      "needs_background": "light"
     },
     "output_type": "display_data"
    }
   ],
   "source": [
    "plt.figure(dpi=90)\n",
    "plt.plot(history.history['accuracy'])"
   ]
  },
  {
   "cell_type": "code",
   "execution_count": 27,
   "id": "f8316dba",
   "metadata": {},
   "outputs": [
    {
     "data": {
      "text/plain": [
       "[<matplotlib.lines.Line2D at 0x7f002a48b370>]"
      ]
     },
     "execution_count": 27,
     "metadata": {},
     "output_type": "execute_result"
    },
    {
     "data": {
      "image/png": "[encoded data removed]",
      "text/plain": [
       "<Figure size 540x360 with 1 Axes>"
      ]
     },
     "metadata": {
      "needs_background": "light"
     },
     "output_type": "display_data"
    }
   ],
   "source": [
    "plt.figure(dpi=90)\n",
    "plt.plot(history.history['accuracy'])\n",
    "plt.plot(history.history['top-5-accuracy'])"
   ]
  },
  {
   "cell_type": "code",
   "execution_count": 45,
   "id": "5fc120a3",
   "metadata": {
    "scrolled": true
   },
   "outputs": [
    {
     "data": {
      "text/plain": [
       "[<matplotlib.lines.Line2D at 0x7f02eda44bb0>]"
      ]
     },
     "execution_count": 45,
     "metadata": {},
     "output_type": "execute_result"
    },
    {
     "data": {
      "image/png": "[encoded data removed]",
      "text/plain": [
       "<Figure size 540x360 with 1 Axes>"
      ]
     },
     "metadata": {
      "needs_background": "light"
     },
     "output_type": "display_data"
    }
   ],
   "source": [
    "plt.figure(dpi=90)\n",
    "plt.plot(history.history['accuracy'])\n",
    "plt.plot(history.history['val_accuracy'])"
   ]
  },
  {
   "cell_type": "markdown",
   "id": "8395921f",
   "metadata": {},
   "source": [
    "* https://keras.io/examples/vision/image_classification_with_vision_transformer/#introduction"
   ]
  }
 ],
 "metadata": {
  "kernelspec": {
   "display_name": "Python 3",
   "language": "python",
   "name": "python3"
  },
  "language_info": {
   "codemirror_mode": {
    "name": "ipython",
    "version": 3
   },
   "file_extension": ".py",
   "mimetype": "text/x-python",
   "name": "python",
   "nbconvert_exporter": "python",
   "pygments_lexer": "ipython3",
   "version": "3.8.10"
  }
 },
 "nbformat": 4,
 "nbformat_minor": 5
}
