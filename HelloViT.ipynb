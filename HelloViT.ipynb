{
 "cells": [
  {
   "cell_type": "markdown",
   "id": "e858014b",
   "metadata": {},
   "source": [
    "# Image classification with Vision Transformer\n",
    "* This example implements the Vision Transformer (ViT) model by Alexey Dosovitskiy et al. for image classification, and demonstrates it on the CIFAR-100 dataset. The ViT model applies the Transformer architecture with self-attention to sequences of image patches, without using convolution layers."
   ]
  },
  {
   "cell_type": "code",
   "execution_count": 1,
   "id": "12b856f7",
   "metadata": {},
   "outputs": [],
   "source": [
    "import os\n",
    "os.environ[\"CUDA_DEVICE_ORDER\"]=\"PCI_BUS_ID\"\n",
    "os.environ[\"CUDA_VISIBLE_DEVICES\"]=\"0\"  # specify which GPU(s) to be used"
   ]
  },
  {
   "cell_type": "code",
   "execution_count": 2,
   "id": "08650c49",
   "metadata": {},
   "outputs": [],
   "source": [
    "#!pip install -U tensorflow-addons==0.15.0"
   ]
  },
  {
   "cell_type": "code",
   "execution_count": 3,
   "id": "7010a72d",
   "metadata": {},
   "outputs": [],
   "source": [
    "# Successfully uninstalled tensorflow-addons-0.15.0\n",
    "# Successfully installed tensorflow-addons-0.19.0"
   ]
  },
  {
   "cell_type": "code",
   "execution_count": 4,
   "id": "1562c9e9",
   "metadata": {},
   "outputs": [
    {
     "name": "stderr",
     "output_type": "stream",
     "text": [
      "/usr/lib/python3/dist-packages/requests/__init__.py:89: RequestsDependencyWarning: urllib3 (1.26.8) or chardet (3.0.4) doesn't match a supported version!\n",
      "  warnings.warn(\"urllib3 ({}) or chardet ({}) doesn't match a supported \"\n"
     ]
    }
   ],
   "source": [
    "import numpy as np\n",
    "import tensorflow as tf\n",
    "from tensorflow import keras\n",
    "from tensorflow.keras import layers\n",
    "import tensorflow_addons as tfa"
   ]
  },
  {
   "cell_type": "code",
   "execution_count": 5,
   "id": "51ab13a5",
   "metadata": {},
   "outputs": [
    {
     "data": {
      "text/plain": [
       "'2.7.0'"
      ]
     },
     "execution_count": 5,
     "metadata": {},
     "output_type": "execute_result"
    }
   ],
   "source": [
    "tf.__version__"
   ]
  },
  {
   "cell_type": "code",
   "execution_count": 6,
   "id": "33f0ad33",
   "metadata": {},
   "outputs": [],
   "source": [
    "import matplotlib.pyplot as plt\n",
    "%matplotlib inline"
   ]
  },
  {
   "cell_type": "markdown",
   "id": "50582ab7",
   "metadata": {},
   "source": [
    "### Prepare the data"
   ]
  },
  {
   "cell_type": "code",
   "execution_count": 7,
   "id": "9010dc68",
   "metadata": {},
   "outputs": [],
   "source": [
    "num_classes = 100\n",
    "input_shape = (32, 32, 3)\n",
    "\n",
    "(x_train, y_train), (x_test, y_test) = keras.datasets.cifar100.load_data()\n"
   ]
  },
  {
   "cell_type": "code",
   "execution_count": 8,
   "id": "3874ec3f",
   "metadata": {},
   "outputs": [
    {
     "name": "stdout",
     "output_type": "stream",
     "text": [
      "x_train shape: (50000, 32, 32, 3) - y_train shape: (50000, 1)\n",
      "x_test shape: (10000, 32, 32, 3) - y_test shape: (10000, 1)\n"
     ]
    }
   ],
   "source": [
    "print(f\"x_train shape: {x_train.shape} - y_train shape: {y_train.shape}\")\n",
    "print(f\"x_test shape: {x_test.shape} - y_test shape: {y_test.shape}\")"
   ]
  },
  {
   "cell_type": "markdown",
   "id": "58d61d75",
   "metadata": {},
   "source": [
    "### Configure the hyperparameters"
   ]
  },
  {
   "cell_type": "code",
   "execution_count": 9,
   "id": "621cdb0b",
   "metadata": {},
   "outputs": [],
   "source": [
    "learning_rate = 0.001\n",
    "weight_decay = 0.0001\n",
    "batch_size = 256\n",
    "num_epochs = 100\n",
    "image_size = 72  # We'll resize input images to this size\n",
    "patch_size = 6  # Size of the patches to be extract from the input images\n",
    "num_patches = (image_size // patch_size) ** 2\n",
    "projection_dim = 64\n",
    "num_heads = 4\n",
    "transformer_units = [\n",
    "    projection_dim * 2,\n",
    "    projection_dim,\n",
    "]  # Size of the transformer layers\n",
    "transformer_layers = 8\n",
    "mlp_head_units = [2048, 1024]  # Size of the dense layers of the final classifier"
   ]
  },
  {
   "cell_type": "markdown",
   "id": "f885f0a3",
   "metadata": {},
   "source": [
    "### Use data augmentation"
   ]
  },
  {
   "cell_type": "code",
   "execution_count": 10,
   "id": "97bcad3b",
   "metadata": {},
   "outputs": [],
   "source": [
    "data_augmentation = keras.Sequential(\n",
    "    [\n",
    "        layers.Normalization(),\n",
    "        layers.Resizing(image_size, image_size),\n",
    "        layers.RandomFlip(\"horizontal\"),\n",
    "        layers.RandomRotation(factor=0.02),\n",
    "        layers.RandomZoom(\n",
    "            height_factor=0.2, width_factor=0.2\n",
    "        ),\n",
    "    ],\n",
    "    name=\"data_augmentation\",\n",
    ")"
   ]
  },
  {
   "cell_type": "code",
   "execution_count": 11,
   "id": "3b816988",
   "metadata": {},
   "outputs": [
    {
     "data": {
      "text/plain": [
       "[<keras.layers.preprocessing.normalization.Normalization at 0x7f11d0072370>,\n",
       " <keras.layers.preprocessing.image_preprocessing.Resizing at 0x7f11d007bee0>,\n",
       " <keras.layers.preprocessing.image_preprocessing.RandomFlip at 0x7f11cff3a100>,\n",
       " <keras.layers.preprocessing.image_preprocessing.RandomRotation at 0x7f11cff3a370>,\n",
       " <keras.layers.preprocessing.image_preprocessing.RandomZoom at 0x7f11cff3a5e0>]"
      ]
     },
     "execution_count": 11,
     "metadata": {},
     "output_type": "execute_result"
    }
   ],
   "source": [
    "data_augmentation.layers"
   ]
  },
  {
   "cell_type": "code",
   "execution_count": 12,
   "id": "996bc541",
   "metadata": {},
   "outputs": [],
   "source": [
    "# Compute the mean and the variance of the training data for normalization.\n",
    "data_augmentation.layers[0].adapt(x_train)"
   ]
  },
  {
   "cell_type": "code",
   "execution_count": 13,
   "id": "282ccd07",
   "metadata": {},
   "outputs": [
    {
     "data": {
      "text/plain": [
       "(50000, 32, 32, 3)"
      ]
     },
     "execution_count": 13,
     "metadata": {},
     "output_type": "execute_result"
    }
   ],
   "source": [
    "x_train.shape"
   ]
  },
  {
   "cell_type": "code",
   "execution_count": 14,
   "id": "8613a570",
   "metadata": {},
   "outputs": [
    {
     "data": {
      "text/plain": [
       "<keras.layers.preprocessing.normalization.Normalization at 0x7f11d0072370>"
      ]
     },
     "execution_count": 14,
     "metadata": {},
     "output_type": "execute_result"
    }
   ],
   "source": [
    "data_augmentation.layers[0]"
   ]
  },
  {
   "cell_type": "markdown",
   "id": "293626a5",
   "metadata": {},
   "source": [
    "### Implement multilayer perceptron (MLP)"
   ]
  },
  {
   "cell_type": "code",
   "execution_count": 15,
   "id": "2ec59e95",
   "metadata": {},
   "outputs": [],
   "source": [
    "def mlp(x, hidden_units, dropout_rate):\n",
    "    for units in hidden_units:\n",
    "        x = layers.Dense(units, activation=tf.nn.gelu)(x)\n",
    "        x = layers.Dropout(dropout_rate)(x)\n",
    "    return x"
   ]
  },
  {
   "cell_type": "markdown",
   "id": "4d14071a",
   "metadata": {},
   "source": [
    "### Implement patch creation as a layer"
   ]
  },
  {
   "cell_type": "code",
   "execution_count": 16,
   "id": "e601d754",
   "metadata": {},
   "outputs": [],
   "source": [
    "class Patches(layers.Layer):\n",
    "    def __init__(self, patch_size):\n",
    "        super(Patches, self).__init__()\n",
    "        self.patch_size = patch_size\n",
    "\n",
    "    def call(self, images):\n",
    "        batch_size = tf.shape(images)[0]\n",
    "        patches = tf.image.extract_patches(\n",
    "            images=images,\n",
    "            sizes=[1, self.patch_size, self.patch_size, 1],\n",
    "            strides=[1, self.patch_size, self.patch_size, 1],\n",
    "            rates=[1, 1, 1, 1],\n",
    "            padding=\"VALID\",\n",
    "        )\n",
    "        patch_dims = patches.shape[-1]\n",
    "        patches = tf.reshape(patches, [batch_size, -1, patch_dims])\n",
    "        return patches"
   ]
  },
  {
   "cell_type": "markdown",
   "id": "352ca663",
   "metadata": {},
   "source": [
    "Let's display patches for a sample image"
   ]
  },
  {
   "cell_type": "code",
   "execution_count": 17,
   "id": "fbca0fcb",
   "metadata": {},
   "outputs": [
    {
     "data": {
      "text/plain": [
       "(-0.5, 31.5, 31.5, -0.5)"
      ]
     },
     "execution_count": 17,
     "metadata": {},
     "output_type": "execute_result"
    },
    {
     "data": {
      "text/plain": [
       "<Figure size 288x288 with 0 Axes>"
      ]
     },
     "metadata": {},
     "output_type": "display_data"
    },
    {
     "data": {
      "image/png": "[encoded data removed]",
      "text/plain": [
       "<Figure size 900x600 with 1 Axes>"
      ]
     },
     "metadata": {
      "needs_background": "light"
     },
     "output_type": "display_data"
    }
   ],
   "source": [
    "dpi=150\n",
    "plt.figure(figsize=(4, 4))\n",
    "idx = 36044#np.random.choice(range(x_train.shape[0]))\n",
    "image = x_train[idx]\n",
    "lbl = y_train[idx]\n",
    "plt.figure(dpi=dpi)\n",
    "plt.imshow(image.astype(\"uint8\"))\n",
    "plt.axis(\"off\")\n",
    "#plt.title('#{}'.format(idx))\n",
    "#plt.title('#{} {}'.format(idx, lbl))"
   ]
  },
  {
   "cell_type": "code",
   "execution_count": 18,
   "id": "d3e997e3",
   "metadata": {},
   "outputs": [
    {
     "data": {
      "text/plain": [
       "72"
      ]
     },
     "execution_count": 18,
     "metadata": {},
     "output_type": "execute_result"
    }
   ],
   "source": [
    "image_size"
   ]
  },
  {
   "cell_type": "code",
   "execution_count": 19,
   "id": "f2475393",
   "metadata": {},
   "outputs": [
    {
     "name": "stdout",
     "output_type": "stream",
     "text": [
      "Image size: 72 X 72\n",
      "Patch size: 6 X 6\n",
      "Patches per image: 144\n",
      "Elements per patch: 108\n",
      "Patch shape : (1, 144, 108)\n"
     ]
    },
    {
     "data": {
      "image/png": "[encoded data removed]",
      "text/plain": [
       "<Figure size 600x600 with 144 Axes>"
      ]
     },
     "metadata": {
      "needs_background": "light"
     },
     "output_type": "display_data"
    }
   ],
   "source": [
    "resized_image = tf.image.resize(\n",
    "    tf.convert_to_tensor([image]), size=(image_size, image_size)\n",
    ")\n",
    "patches = Patches(patch_size)(resized_image)\n",
    "print(f\"Image size: {image_size} X {image_size}\")\n",
    "print(f\"Patch size: {patch_size} X {patch_size}\")\n",
    "print(f\"Patches per image: {patches.shape[1]}\")\n",
    "print(f\"Elements per patch: {patches.shape[-1]}\")\n",
    "print(f\"Patch shape : {patches.shape}\")\n",
    "n = int(np.sqrt(patches.shape[1]))\n",
    "plt.figure(dpi=dpi, figsize=(4, 4))\n",
    "for i, patch in enumerate(patches[0]):\n",
    "    ax = plt.subplot(n, n, i + 1)\n",
    "    patch_img = tf.reshape(patch, (patch_size, patch_size, 3))\n",
    "    plt.imshow(patch_img.numpy().astype(\"uint8\"))\n",
    "    plt.axis(\"off\")"
   ]
  },
  {
   "cell_type": "markdown",
   "id": "1f7c08a2",
   "metadata": {},
   "source": [
    "### Implement the patch encoding layer"
   ]
  },
  {
   "cell_type": "markdown",
   "id": "48ee59d1",
   "metadata": {},
   "source": [
    "The PatchEncoder layer will linearly transform a patch by projecting it into a vector of size projection_dim. In addition, it adds a learnable position embedding to the projected vector."
   ]
  },
  {
   "cell_type": "code",
   "execution_count": 20,
   "id": "ced8c80d",
   "metadata": {},
   "outputs": [
    {
     "data": {
      "text/plain": [
       "64"
      ]
     },
     "execution_count": 20,
     "metadata": {},
     "output_type": "execute_result"
    }
   ],
   "source": [
    "projection_dim"
   ]
  },
  {
   "cell_type": "code",
   "execution_count": 21,
   "id": "85c972ca",
   "metadata": {},
   "outputs": [],
   "source": [
    "class PatchEncoder(layers.Layer):\n",
    "    def __init__(self, num_patches, projection_dim):\n",
    "        super(PatchEncoder, self).__init__()\n",
    "        self.num_patches = num_patches\n",
    "        self.projection = layers.Dense(units=projection_dim)\n",
    "        self.position_embedding = layers.Embedding(\n",
    "            input_dim=num_patches, output_dim=projection_dim\n",
    "        )\n",
    "\n",
    "    def call(self, patch):\n",
    "        positions = tf.range(start=0, limit=self.num_patches, delta=1)\n",
    "        encoded = self.projection(patch) + self.position_embedding(positions)\n",
    "        return encoded"
   ]
  },
  {
   "cell_type": "code",
   "execution_count": 22,
   "id": "60a91c39",
   "metadata": {},
   "outputs": [
    {
     "name": "stdout",
     "output_type": "stream",
     "text": [
      "tf.Tensor(\n",
      "[  0   1   2   3   4   5   6   7   8   9  10  11  12  13  14  15  16  17\n",
      "  18  19  20  21  22  23  24  25  26  27  28  29  30  31  32  33  34  35\n",
      "  36  37  38  39  40  41  42  43  44  45  46  47  48  49  50  51  52  53\n",
      "  54  55  56  57  58  59  60  61  62  63  64  65  66  67  68  69  70  71\n",
      "  72  73  74  75  76  77  78  79  80  81  82  83  84  85  86  87  88  89\n",
      "  90  91  92  93  94  95  96  97  98  99 100 101 102 103 104 105 106 107\n",
      " 108 109 110 111 112 113 114 115 116 117 118 119 120 121 122 123 124 125\n",
      " 126 127 128 129 130 131 132 133 134 135 136 137 138 139 140 141 142 143], shape=(144,), dtype=int32)\n"
     ]
    }
   ],
   "source": [
    "positions_test = tf.range(start=0, limit=num_patches, delta=1)\n",
    "print(positions_test)"
   ]
  },
  {
   "cell_type": "code",
   "execution_count": 23,
   "id": "3eca568f",
   "metadata": {},
   "outputs": [],
   "source": [
    "position_embedding_test = layers.Embedding(input_dim=num_patches, output_dim=projection_dim)"
   ]
  },
  {
   "cell_type": "code",
   "execution_count": 24,
   "id": "00fb4311",
   "metadata": {},
   "outputs": [],
   "source": [
    "pos_emb1 = position_embedding_test(positions_test) #(144, 64)"
   ]
  },
  {
   "cell_type": "code",
   "execution_count": 25,
   "id": "80e09fc0",
   "metadata": {},
   "outputs": [
    {
     "data": {
      "text/plain": [
       "<tf.Tensor: shape=(144, 64), dtype=float32, numpy=\n",
       "array([[ 0.01418383, -0.02455223, -0.02815129, ..., -0.03807395,\n",
       "        -0.00257187,  0.00553632],\n",
       "       [-0.02521985,  0.01335287, -0.04696039, ..., -0.01748287,\n",
       "        -0.03141016,  0.02003738],\n",
       "       [-0.02805503, -0.02779734,  0.02490855, ...,  0.02688463,\n",
       "         0.02694086, -0.04477291],\n",
       "       ...,\n",
       "       [-0.01620307, -0.03134841, -0.03363593, ..., -0.00122267,\n",
       "         0.04522841, -0.00725664],\n",
       "       [-0.0108522 ,  0.01707739,  0.00657201, ..., -0.02272382,\n",
       "         0.03565505, -0.01230335],\n",
       "       [-0.0266881 , -0.01426964,  0.03951578, ..., -0.02544856,\n",
       "        -0.01034795, -0.01002843]], dtype=float32)>"
      ]
     },
     "execution_count": 25,
     "metadata": {},
     "output_type": "execute_result"
    }
   ],
   "source": [
    "pos_emb1"
   ]
  },
  {
   "cell_type": "markdown",
   "id": "4df490c1",
   "metadata": {},
   "source": [
    "### Build the ViT model"
   ]
  },
  {
   "cell_type": "markdown",
   "id": "cf910e18",
   "metadata": {},
   "source": [
    "The ViT model consists of multiple Transformer blocks, which use the layers.MultiHeadAttention layer as a self-attention mechanism applied to the sequence of patches. The Transformer blocks produce a <strong>[batch_size, num_patches, projection_dim]</strong> tensor, which is processed via an classifier head with softmax to produce the final class probabilities output.\n",
    "\n",
    "Unlike the technique described in the paper, which prepends a learnable embedding to the sequence of encoded patches to serve as the image representation, all the outputs of the final Transformer block are reshaped with layers.Flatten() and used as the image representation input to the classifier head. \n",
    "\n",
    "Note that the layers.GlobalAveragePooling1D layer could also be used instead to aggregate the outputs of the Transformer block, especially when the number of patches and the projection dimensions are large."
   ]
  },
  {
   "cell_type": "code",
   "execution_count": 26,
   "id": "634931d4",
   "metadata": {},
   "outputs": [
    {
     "data": {
      "text/plain": [
       "6"
      ]
     },
     "execution_count": 26,
     "metadata": {},
     "output_type": "execute_result"
    }
   ],
   "source": [
    "patch_size"
   ]
  },
  {
   "cell_type": "code",
   "execution_count": 27,
   "id": "82280e17",
   "metadata": {},
   "outputs": [
    {
     "data": {
      "text/plain": [
       "(32, 32, 3)"
      ]
     },
     "execution_count": 27,
     "metadata": {},
     "output_type": "execute_result"
    }
   ],
   "source": [
    "input_shape"
   ]
  },
  {
   "cell_type": "code",
   "execution_count": 28,
   "id": "c35a0845",
   "metadata": {},
   "outputs": [
    {
     "data": {
      "text/plain": [
       "(144, 64)"
      ]
     },
     "execution_count": 28,
     "metadata": {},
     "output_type": "execute_result"
    }
   ],
   "source": [
    "num_patches, projection_dim"
   ]
  },
  {
   "cell_type": "markdown",
   "id": "073fb46c",
   "metadata": {},
   "source": [
    "The Transformer blocks produce a [batch_size, num_patches, projection_dim] tensor. 이때 각 encoded_patches 는 \n",
    "```\n",
    "encoded_patches = PatchEncoder(num_patches, projection_dim)(patches)\n",
    "```\n",
    "(None, 144, 64) 의 shape을 가지게 됨. 각 patch 마다 64\n",
    "\n",
    "위의 PatchEncoder는 아래처럼 구성됨\n",
    "```\n",
    "positions = tf.range(start=0, limit=self.num_patches, delta=1)\n",
    "encoded = self.projection(patch) + self.position_embedding(positions)\n",
    "```"
   ]
  },
  {
   "cell_type": "code",
   "execution_count": 29,
   "id": "ed181f44",
   "metadata": {},
   "outputs": [
    {
     "data": {
      "text/plain": [
       "8"
      ]
     },
     "execution_count": 29,
     "metadata": {},
     "output_type": "execute_result"
    }
   ],
   "source": [
    "transformer_layers"
   ]
  },
  {
   "cell_type": "code",
   "execution_count": 30,
   "id": "d19a22c4",
   "metadata": {},
   "outputs": [
    {
     "data": {
      "text/plain": [
       "(32, 32, 3)"
      ]
     },
     "execution_count": 30,
     "metadata": {},
     "output_type": "execute_result"
    }
   ],
   "source": [
    "input_shape"
   ]
  },
  {
   "cell_type": "code",
   "execution_count": 31,
   "id": "41a863db",
   "metadata": {},
   "outputs": [],
   "source": [
    "def create_vit_classifier():\n",
    "    inputs = layers.Input(shape=input_shape)\n",
    "    # Augment data.\n",
    "    augmented = data_augmentation(inputs)\n",
    "    \n",
    "    # Create patches.\n",
    "    patches = Patches(patch_size)(augmented)\n",
    "    # Encode patches.\n",
    "    encoded_patches = PatchEncoder(num_patches, projection_dim)(patches)\n",
    "    # (None, 144, 64)\n",
    "    # print(encoded_patches.shape) \n",
    "    \n",
    "    # Create multiple layers of the Transformer block.\n",
    "    for _ in range(transformer_layers):\n",
    "        # Layer normalization 1.\n",
    "        x1 = layers.LayerNormalization(epsilon=1e-6)(encoded_patches) # (None, 144, 64)\n",
    "        \n",
    "        # Create a multi-head attention layer.\n",
    "        attention_output = layers.MultiHeadAttention(\n",
    "            num_heads=num_heads, key_dim=projection_dim, dropout=0.1\n",
    "        )(x1, x1)\n",
    "        # Skip connection 1.\n",
    "        x2 = layers.Add()([attention_output, encoded_patches])\n",
    "        # Layer normalization 2.\n",
    "        x3 = layers.LayerNormalization(epsilon=1e-6)(x2)\n",
    "        # MLP.\n",
    "        x3 = mlp(x3, hidden_units=transformer_units, dropout_rate=0.1)\n",
    "        # Skip connection 2.\n",
    "        encoded_patches = layers.Add()([x3, x2])\n",
    "\n",
    "    # Create a [batch_size, projection_dim] tensor.\n",
    "    representation = layers.LayerNormalization(epsilon=1e-6)(encoded_patches)\n",
    "    representation = layers.Flatten()(representation)\n",
    "    representation = layers.Dropout(0.5)(representation)\n",
    "    # Add MLP.\n",
    "    features = mlp(representation, hidden_units=mlp_head_units, dropout_rate=0.5)\n",
    "    # Classify outputs.\n",
    "    logits = layers.Dense(num_classes)(features)\n",
    "    # Create the Keras model.\n",
    "    model = keras.Model(inputs=inputs, outputs=logits)\n",
    "    return model"
   ]
  },
  {
   "cell_type": "markdown",
   "id": "abf2c555",
   "metadata": {},
   "source": [
    "### Compile, train, and evaluate the mode"
   ]
  },
  {
   "cell_type": "code",
   "execution_count": 32,
   "id": "b7eecbe3",
   "metadata": {},
   "outputs": [],
   "source": [
    "def run_experiment(model):\n",
    "    optimizer = tfa.optimizers.AdamW(\n",
    "        learning_rate=learning_rate, weight_decay=weight_decay\n",
    "    )\n",
    "\n",
    "    model.compile(\n",
    "        optimizer=optimizer,\n",
    "        loss=keras.losses.SparseCategoricalCrossentropy(from_logits=True),\n",
    "        metrics=[\n",
    "            keras.metrics.SparseCategoricalAccuracy(name=\"accuracy\"),\n",
    "            keras.metrics.SparseTopKCategoricalAccuracy(5, name=\"top-5-accuracy\"),\n",
    "        ],\n",
    "    )\n",
    "\n",
    "    checkpoint_filepath = \"/tmp/checkpoint\"\n",
    "    checkpoint_callback = keras.callbacks.ModelCheckpoint(\n",
    "        checkpoint_filepath,\n",
    "        monitor=\"val_accuracy\",\n",
    "        save_best_only=True,\n",
    "        save_weights_only=True,\n",
    "    )\n",
    "\n",
    "    history = model.fit(\n",
    "        x=x_train,\n",
    "        y=y_train,\n",
    "        batch_size=batch_size,\n",
    "        epochs=num_epochs,\n",
    "        validation_split=0.1,\n",
    "        callbacks=[checkpoint_callback],\n",
    "    )\n",
    "\n",
    "    model.load_weights(checkpoint_filepath)\n",
    "    _, accuracy, top_5_accuracy = model.evaluate(x_test, y_test)\n",
    "    print(f\"Test accuracy: {round(accuracy * 100, 2)}%\")\n",
    "    print(f\"Test top 5 accuracy: {round(top_5_accuracy * 100, 2)}%\")\n",
    "\n",
    "    return history"
   ]
  },
  {
   "cell_type": "code",
   "execution_count": 33,
   "id": "9befbb2d",
   "metadata": {},
   "outputs": [],
   "source": [
    "vit_classifier = create_vit_classifier()"
   ]
  },
  {
   "cell_type": "code",
   "execution_count": 34,
   "id": "1c4b99b4",
   "metadata": {},
   "outputs": [
    {
     "name": "stdout",
     "output_type": "stream",
     "text": [
      "Epoch 1/100\n",
      "176/176 [==============================] - 54s 259ms/step - loss: 4.4667 - accuracy: 0.0471 - top-5-accuracy: 0.1665 - val_loss: 3.9142 - val_accuracy: 0.1080 - val_top-5-accuracy: 0.3194\n",
      "Epoch 2/100\n",
      "176/176 [==============================] - 47s 268ms/step - loss: 3.9440 - accuracy: 0.0981 - top-5-accuracy: 0.2918 - val_loss: 3.5633 - val_accuracy: 0.1584 - val_top-5-accuracy: 0.4094\n",
      "Epoch 3/100\n",
      "176/176 [==============================] - 49s 277ms/step - loss: 3.6814 - accuracy: 0.1328 - top-5-accuracy: 0.3711 - val_loss: 3.3548 - val_accuracy: 0.1966 - val_top-5-accuracy: 0.4696\n",
      "Epoch 4/100\n",
      "176/176 [==============================] - 49s 279ms/step - loss: 3.5018 - accuracy: 0.1634 - top-5-accuracy: 0.4217 - val_loss: 3.1757 - val_accuracy: 0.2276 - val_top-5-accuracy: 0.5084\n",
      "Epoch 5/100\n",
      "176/176 [==============================] - 50s 282ms/step - loss: 3.3495 - accuracy: 0.1930 - top-5-accuracy: 0.4679 - val_loss: 3.0780 - val_accuracy: 0.2408 - val_top-5-accuracy: 0.5336\n",
      "Epoch 6/100\n",
      "176/176 [==============================] - 50s 283ms/step - loss: 3.2030 - accuracy: 0.2157 - top-5-accuracy: 0.5045 - val_loss: 2.9296 - val_accuracy: 0.2718 - val_top-5-accuracy: 0.5762\n",
      "Epoch 7/100\n",
      "176/176 [==============================] - 49s 281ms/step - loss: 3.1148 - accuracy: 0.2344 - top-5-accuracy: 0.5287 - val_loss: 2.9097 - val_accuracy: 0.2806 - val_top-5-accuracy: 0.5774\n",
      "Epoch 8/100\n",
      "176/176 [==============================] - 50s 283ms/step - loss: 3.0813 - accuracy: 0.2419 - top-5-accuracy: 0.5330 - val_loss: 2.9326 - val_accuracy: 0.2774 - val_top-5-accuracy: 0.5648\n",
      "Epoch 9/100\n",
      "176/176 [==============================] - 51s 292ms/step - loss: 3.0387 - accuracy: 0.2525 - top-5-accuracy: 0.5483 - val_loss: 2.7939 - val_accuracy: 0.3030 - val_top-5-accuracy: 0.6032\n",
      "Epoch 10/100\n",
      "176/176 [==============================] - 49s 277ms/step - loss: 3.0292 - accuracy: 0.2530 - top-5-accuracy: 0.5474 - val_loss: 2.9300 - val_accuracy: 0.2716 - val_top-5-accuracy: 0.5668\n",
      "Epoch 11/100\n",
      "176/176 [==============================] - 50s 283ms/step - loss: 3.1213 - accuracy: 0.2362 - top-5-accuracy: 0.5270 - val_loss: 2.8454 - val_accuracy: 0.2898 - val_top-5-accuracy: 0.5892\n",
      "Epoch 12/100\n",
      "176/176 [==============================] - 51s 290ms/step - loss: 2.9911 - accuracy: 0.2621 - top-5-accuracy: 0.5569 - val_loss: 2.7705 - val_accuracy: 0.3098 - val_top-5-accuracy: 0.6088\n",
      "Epoch 13/100\n",
      "176/176 [==============================] - 51s 291ms/step - loss: 2.8804 - accuracy: 0.2818 - top-5-accuracy: 0.5869 - val_loss: 2.6673 - val_accuracy: 0.3272 - val_top-5-accuracy: 0.6264\n",
      "Epoch 14/100\n",
      "176/176 [==============================] - 50s 286ms/step - loss: 2.7765 - accuracy: 0.3018 - top-5-accuracy: 0.6095 - val_loss: 2.6161 - val_accuracy: 0.3370 - val_top-5-accuracy: 0.6372\n",
      "Epoch 15/100\n",
      "176/176 [==============================] - 51s 291ms/step - loss: 2.7594 - accuracy: 0.3053 - top-5-accuracy: 0.6130 - val_loss: 2.5471 - val_accuracy: 0.3554 - val_top-5-accuracy: 0.6608\n",
      "Epoch 16/100\n",
      "176/176 [==============================] - 50s 283ms/step - loss: 2.6532 - accuracy: 0.3269 - top-5-accuracy: 0.6376 - val_loss: 2.5727 - val_accuracy: 0.3494 - val_top-5-accuracy: 0.6512\n",
      "Epoch 17/100\n",
      "176/176 [==============================] - 51s 291ms/step - loss: 2.6332 - accuracy: 0.3302 - top-5-accuracy: 0.6440 - val_loss: 2.4725 - val_accuracy: 0.3690 - val_top-5-accuracy: 0.6724\n",
      "Epoch 18/100\n",
      "176/176 [==============================] - 51s 291ms/step - loss: 2.5491 - accuracy: 0.3464 - top-5-accuracy: 0.6626 - val_loss: 2.3910 - val_accuracy: 0.3880 - val_top-5-accuracy: 0.6880\n",
      "Epoch 19/100\n",
      "176/176 [==============================] - 51s 291ms/step - loss: 2.4447 - accuracy: 0.3682 - top-5-accuracy: 0.6826 - val_loss: 2.3135 - val_accuracy: 0.3984 - val_top-5-accuracy: 0.6984\n",
      "Epoch 20/100\n",
      "176/176 [==============================] - 51s 292ms/step - loss: 2.3707 - accuracy: 0.3814 - top-5-accuracy: 0.6977 - val_loss: 2.2943 - val_accuracy: 0.4044 - val_top-5-accuracy: 0.7100\n",
      "Epoch 21/100\n",
      "176/176 [==============================] - 51s 290ms/step - loss: 2.3159 - accuracy: 0.3921 - top-5-accuracy: 0.7113 - val_loss: 2.2614 - val_accuracy: 0.4134 - val_top-5-accuracy: 0.7202\n",
      "Epoch 22/100\n",
      "176/176 [==============================] - 51s 291ms/step - loss: 2.2512 - accuracy: 0.4086 - top-5-accuracy: 0.7240 - val_loss: 2.2436 - val_accuracy: 0.4204 - val_top-5-accuracy: 0.7184\n",
      "Epoch 23/100\n",
      "176/176 [==============================] - 51s 292ms/step - loss: 2.2005 - accuracy: 0.4177 - top-5-accuracy: 0.7343 - val_loss: 2.2113 - val_accuracy: 0.4320 - val_top-5-accuracy: 0.7212\n",
      "Epoch 24/100\n",
      "176/176 [==============================] - 51s 290ms/step - loss: 2.1480 - accuracy: 0.4292 - top-5-accuracy: 0.7471 - val_loss: 2.1748 - val_accuracy: 0.4364 - val_top-5-accuracy: 0.7328\n",
      "Epoch 25/100\n",
      "176/176 [==============================] - 51s 291ms/step - loss: 2.0941 - accuracy: 0.4416 - top-5-accuracy: 0.7557 - val_loss: 2.1540 - val_accuracy: 0.4408 - val_top-5-accuracy: 0.7330\n",
      "Epoch 26/100\n",
      "176/176 [==============================] - 51s 291ms/step - loss: 2.0642 - accuracy: 0.4487 - top-5-accuracy: 0.7624 - val_loss: 2.1496 - val_accuracy: 0.4420 - val_top-5-accuracy: 0.7384\n",
      "Epoch 27/100\n",
      "176/176 [==============================] - 51s 291ms/step - loss: 2.0235 - accuracy: 0.4590 - top-5-accuracy: 0.7701 - val_loss: 2.1232 - val_accuracy: 0.4484 - val_top-5-accuracy: 0.7384\n",
      "Epoch 28/100\n",
      "176/176 [==============================] - 50s 284ms/step - loss: 1.9847 - accuracy: 0.4668 - top-5-accuracy: 0.7779 - val_loss: 2.1392 - val_accuracy: 0.4462 - val_top-5-accuracy: 0.7414\n",
      "Epoch 29/100\n",
      "176/176 [==============================] - 51s 292ms/step - loss: 1.9502 - accuracy: 0.4730 - top-5-accuracy: 0.7849 - val_loss: 2.1049 - val_accuracy: 0.4596 - val_top-5-accuracy: 0.7410\n",
      "Epoch 30/100\n",
      "176/176 [==============================] - 51s 291ms/step - loss: 1.9144 - accuracy: 0.4824 - top-5-accuracy: 0.7902 - val_loss: 2.0941 - val_accuracy: 0.4598 - val_top-5-accuracy: 0.7528\n",
      "Epoch 31/100\n",
      "176/176 [==============================] - 51s 291ms/step - loss: 1.8698 - accuracy: 0.4907 - top-5-accuracy: 0.7980 - val_loss: 2.0862 - val_accuracy: 0.4610 - val_top-5-accuracy: 0.7438\n",
      "Epoch 32/100\n",
      "176/176 [==============================] - 50s 283ms/step - loss: 1.8409 - accuracy: 0.4973 - top-5-accuracy: 0.8048 - val_loss: 2.1080 - val_accuracy: 0.4554 - val_top-5-accuracy: 0.7422\n",
      "Epoch 33/100\n",
      "176/176 [==============================] - 51s 292ms/step - loss: 1.8018 - accuracy: 0.5078 - top-5-accuracy: 0.8127 - val_loss: 2.0569 - val_accuracy: 0.4672 - val_top-5-accuracy: 0.7572\n",
      "Epoch 34/100\n",
      "176/176 [==============================] - 51s 291ms/step - loss: 1.7792 - accuracy: 0.5124 - top-5-accuracy: 0.8141 - val_loss: 2.0523 - val_accuracy: 0.4712 - val_top-5-accuracy: 0.7518\n",
      "Epoch 35/100\n",
      "176/176 [==============================] - 50s 283ms/step - loss: 1.7494 - accuracy: 0.5193 - top-5-accuracy: 0.8213 - val_loss: 2.0678 - val_accuracy: 0.4710 - val_top-5-accuracy: 0.7530\n",
      "Epoch 36/100\n",
      "176/176 [==============================] - 50s 284ms/step - loss: 1.7096 - accuracy: 0.5269 - top-5-accuracy: 0.8267 - val_loss: 2.0420 - val_accuracy: 0.4682 - val_top-5-accuracy: 0.7604\n",
      "Epoch 37/100\n",
      "176/176 [==============================] - 51s 292ms/step - loss: 1.6872 - accuracy: 0.5301 - top-5-accuracy: 0.8322 - val_loss: 2.0267 - val_accuracy: 0.4752 - val_top-5-accuracy: 0.7606\n",
      "Epoch 38/100\n",
      "176/176 [==============================] - 50s 284ms/step - loss: 1.6661 - accuracy: 0.5408 - top-5-accuracy: 0.8352 - val_loss: 2.0474 - val_accuracy: 0.4712 - val_top-5-accuracy: 0.7586\n",
      "Epoch 39/100\n",
      "176/176 [==============================] - 50s 283ms/step - loss: 1.6360 - accuracy: 0.5454 - top-5-accuracy: 0.8403 - val_loss: 2.0517 - val_accuracy: 0.4706 - val_top-5-accuracy: 0.7630\n",
      "Epoch 40/100\n",
      "176/176 [==============================] - 50s 283ms/step - loss: 1.5922 - accuracy: 0.5573 - top-5-accuracy: 0.8459 - val_loss: 2.0397 - val_accuracy: 0.4738 - val_top-5-accuracy: 0.7604\n",
      "Epoch 41/100\n",
      "176/176 [==============================] - 51s 291ms/step - loss: 1.5826 - accuracy: 0.5586 - top-5-accuracy: 0.8518 - val_loss: 2.0192 - val_accuracy: 0.4784 - val_top-5-accuracy: 0.7680\n"
     ]
    },
    {
     "name": "stdout",
     "output_type": "stream",
     "text": [
      "Epoch 42/100\n",
      "176/176 [==============================] - 51s 290ms/step - loss: 1.5503 - accuracy: 0.5664 - top-5-accuracy: 0.8565 - val_loss: 2.0075 - val_accuracy: 0.4832 - val_top-5-accuracy: 0.7660\n",
      "Epoch 43/100\n",
      "176/176 [==============================] - 51s 292ms/step - loss: 1.5279 - accuracy: 0.5695 - top-5-accuracy: 0.8595 - val_loss: 2.0052 - val_accuracy: 0.4920 - val_top-5-accuracy: 0.7692\n",
      "Epoch 44/100\n",
      "176/176 [==============================] - 50s 283ms/step - loss: 1.5029 - accuracy: 0.5736 - top-5-accuracy: 0.8645 - val_loss: 1.9997 - val_accuracy: 0.4846 - val_top-5-accuracy: 0.7746\n",
      "Epoch 45/100\n",
      "176/176 [==============================] - 50s 284ms/step - loss: 1.4836 - accuracy: 0.5824 - top-5-accuracy: 0.8684 - val_loss: 2.0029 - val_accuracy: 0.4880 - val_top-5-accuracy: 0.7740\n",
      "Epoch 46/100\n",
      "176/176 [==============================] - 50s 283ms/step - loss: 1.4680 - accuracy: 0.5849 - top-5-accuracy: 0.8701 - val_loss: 2.0224 - val_accuracy: 0.4870 - val_top-5-accuracy: 0.7728\n",
      "Epoch 47/100\n",
      "176/176 [==============================] - 51s 292ms/step - loss: 1.4372 - accuracy: 0.5912 - top-5-accuracy: 0.8756 - val_loss: 1.9997 - val_accuracy: 0.4954 - val_top-5-accuracy: 0.7722\n",
      "Epoch 48/100\n",
      "176/176 [==============================] - 51s 292ms/step - loss: 1.4086 - accuracy: 0.5983 - top-5-accuracy: 0.8787 - val_loss: 1.9659 - val_accuracy: 0.4998 - val_top-5-accuracy: 0.7758\n",
      "Epoch 49/100\n",
      "176/176 [==============================] - 50s 284ms/step - loss: 1.3916 - accuracy: 0.6029 - top-5-accuracy: 0.8818 - val_loss: 2.0130 - val_accuracy: 0.4948 - val_top-5-accuracy: 0.7664\n",
      "Epoch 50/100\n",
      "176/176 [==============================] - 50s 284ms/step - loss: 1.3617 - accuracy: 0.6111 - top-5-accuracy: 0.8876 - val_loss: 1.9696 - val_accuracy: 0.4992 - val_top-5-accuracy: 0.7752\n",
      "Epoch 51/100\n",
      "176/176 [==============================] - 51s 292ms/step - loss: 1.3515 - accuracy: 0.6128 - top-5-accuracy: 0.8868 - val_loss: 1.9673 - val_accuracy: 0.5024 - val_top-5-accuracy: 0.7798\n",
      "Epoch 52/100\n",
      "176/176 [==============================] - 50s 284ms/step - loss: 1.3235 - accuracy: 0.6200 - top-5-accuracy: 0.8942 - val_loss: 1.9722 - val_accuracy: 0.4970 - val_top-5-accuracy: 0.7790\n",
      "Epoch 53/100\n",
      "176/176 [==============================] - 51s 291ms/step - loss: 1.2924 - accuracy: 0.6262 - top-5-accuracy: 0.8984 - val_loss: 1.9490 - val_accuracy: 0.5030 - val_top-5-accuracy: 0.7914\n",
      "Epoch 54/100\n",
      "176/176 [==============================] - 50s 283ms/step - loss: 1.2806 - accuracy: 0.6315 - top-5-accuracy: 0.8984 - val_loss: 1.9661 - val_accuracy: 0.5016 - val_top-5-accuracy: 0.7806\n",
      "Epoch 55/100\n",
      "176/176 [==============================] - 50s 283ms/step - loss: 1.2546 - accuracy: 0.6364 - top-5-accuracy: 0.9024 - val_loss: 1.9859 - val_accuracy: 0.5004 - val_top-5-accuracy: 0.7840\n",
      "Epoch 56/100\n",
      "176/176 [==============================] - 50s 284ms/step - loss: 1.2398 - accuracy: 0.6374 - top-5-accuracy: 0.9055 - val_loss: 1.9472 - val_accuracy: 0.5000 - val_top-5-accuracy: 0.7890\n",
      "Epoch 57/100\n",
      "176/176 [==============================] - 50s 283ms/step - loss: 1.2275 - accuracy: 0.6461 - top-5-accuracy: 0.9063 - val_loss: 1.9851 - val_accuracy: 0.5022 - val_top-5-accuracy: 0.7850\n",
      "Epoch 58/100\n",
      "176/176 [==============================] - 51s 291ms/step - loss: 1.2138 - accuracy: 0.6479 - top-5-accuracy: 0.9084 - val_loss: 1.9674 - val_accuracy: 0.5088 - val_top-5-accuracy: 0.7848\n",
      "Epoch 59/100\n",
      "176/176 [==============================] - 49s 280ms/step - loss: 1.1834 - accuracy: 0.6563 - top-5-accuracy: 0.9136 - val_loss: 1.9618 - val_accuracy: 0.5044 - val_top-5-accuracy: 0.7858\n",
      "Epoch 60/100\n",
      "176/176 [==============================] - 50s 283ms/step - loss: 1.1730 - accuracy: 0.6554 - top-5-accuracy: 0.9149 - val_loss: 1.9439 - val_accuracy: 0.5074 - val_top-5-accuracy: 0.7888\n",
      "Epoch 61/100\n",
      "176/176 [==============================] - 51s 291ms/step - loss: 1.1625 - accuracy: 0.6627 - top-5-accuracy: 0.9166 - val_loss: 1.9643 - val_accuracy: 0.5136 - val_top-5-accuracy: 0.7878\n",
      "Epoch 62/100\n",
      "176/176 [==============================] - 50s 284ms/step - loss: 1.1569 - accuracy: 0.6616 - top-5-accuracy: 0.9165 - val_loss: 1.9954 - val_accuracy: 0.4992 - val_top-5-accuracy: 0.7808\n",
      "Epoch 63/100\n",
      "176/176 [==============================] - 50s 282ms/step - loss: 1.1303 - accuracy: 0.6687 - top-5-accuracy: 0.9205 - val_loss: 1.9754 - val_accuracy: 0.5026 - val_top-5-accuracy: 0.7880\n",
      "Epoch 64/100\n",
      "176/176 [==============================] - 50s 284ms/step - loss: 1.1249 - accuracy: 0.6691 - top-5-accuracy: 0.9216 - val_loss: 1.9871 - val_accuracy: 0.5104 - val_top-5-accuracy: 0.7884\n",
      "Epoch 65/100\n",
      "176/176 [==============================] - 51s 290ms/step - loss: 1.1105 - accuracy: 0.6746 - top-5-accuracy: 0.9244 - val_loss: 1.9797 - val_accuracy: 0.5138 - val_top-5-accuracy: 0.7902\n",
      "Epoch 66/100\n",
      "176/176 [==============================] - 50s 284ms/step - loss: 1.0872 - accuracy: 0.6805 - top-5-accuracy: 0.9261 - val_loss: 1.9886 - val_accuracy: 0.5062 - val_top-5-accuracy: 0.7882\n",
      "Epoch 67/100\n",
      "176/176 [==============================] - 50s 283ms/step - loss: 1.0801 - accuracy: 0.6830 - top-5-accuracy: 0.9269 - val_loss: 1.9909 - val_accuracy: 0.5074 - val_top-5-accuracy: 0.7916\n",
      "Epoch 68/100\n",
      "176/176 [==============================] - 50s 283ms/step - loss: 1.0815 - accuracy: 0.6829 - top-5-accuracy: 0.9275 - val_loss: 1.9881 - val_accuracy: 0.5104 - val_top-5-accuracy: 0.7888\n",
      "Epoch 69/100\n",
      "176/176 [==============================] - 50s 283ms/step - loss: 1.0592 - accuracy: 0.6864 - top-5-accuracy: 0.9304 - val_loss: 1.9646 - val_accuracy: 0.5018 - val_top-5-accuracy: 0.7952\n",
      "Epoch 70/100\n",
      "176/176 [==============================] - 51s 292ms/step - loss: 1.0494 - accuracy: 0.6904 - top-5-accuracy: 0.9300 - val_loss: 1.9525 - val_accuracy: 0.5230 - val_top-5-accuracy: 0.7960\n",
      "Epoch 71/100\n",
      "176/176 [==============================] - 50s 284ms/step - loss: 1.0416 - accuracy: 0.6916 - top-5-accuracy: 0.9314 - val_loss: 1.9917 - val_accuracy: 0.5042 - val_top-5-accuracy: 0.7906\n",
      "Epoch 72/100\n",
      "176/176 [==============================] - 50s 284ms/step - loss: 1.0412 - accuracy: 0.6911 - top-5-accuracy: 0.9319 - val_loss: 1.9552 - val_accuracy: 0.5146 - val_top-5-accuracy: 0.7954\n",
      "Epoch 73/100\n",
      "176/176 [==============================] - 50s 283ms/step - loss: 1.0208 - accuracy: 0.6952 - top-5-accuracy: 0.9355 - val_loss: 1.9853 - val_accuracy: 0.5140 - val_top-5-accuracy: 0.7976\n",
      "Epoch 74/100\n",
      "176/176 [==============================] - 50s 284ms/step - loss: 1.0207 - accuracy: 0.6982 - top-5-accuracy: 0.9339 - val_loss: 1.9599 - val_accuracy: 0.5160 - val_top-5-accuracy: 0.7906\n",
      "Epoch 75/100\n",
      "176/176 [==============================] - 50s 284ms/step - loss: 1.0037 - accuracy: 0.7007 - top-5-accuracy: 0.9370 - val_loss: 1.9652 - val_accuracy: 0.5122 - val_top-5-accuracy: 0.7944\n",
      "Epoch 76/100\n",
      "176/176 [==============================] - 50s 283ms/step - loss: 0.9983 - accuracy: 0.7044 - top-5-accuracy: 0.9378 - val_loss: 1.9891 - val_accuracy: 0.5120 - val_top-5-accuracy: 0.7898\n",
      "Epoch 77/100\n",
      "176/176 [==============================] - 50s 283ms/step - loss: 0.9975 - accuracy: 0.7053 - top-5-accuracy: 0.9376 - val_loss: 1.9677 - val_accuracy: 0.5146 - val_top-5-accuracy: 0.7934\n",
      "Epoch 78/100\n",
      "176/176 [==============================] - 51s 292ms/step - loss: 0.9707 - accuracy: 0.7134 - top-5-accuracy: 0.9409 - val_loss: 1.9460 - val_accuracy: 0.5236 - val_top-5-accuracy: 0.8004\n",
      "Epoch 80/100\n",
      "176/176 [==============================] - 50s 283ms/step - loss: 0.9600 - accuracy: 0.7122 - top-5-accuracy: 0.9421 - val_loss: 1.9425 - val_accuracy: 0.5178 - val_top-5-accuracy: 0.7972\n",
      "Epoch 81/100\n",
      "176/176 [==============================] - 50s 284ms/step - loss: 0.9424 - accuracy: 0.7192 - top-5-accuracy: 0.9431 - val_loss: 1.9701 - val_accuracy: 0.5152 - val_top-5-accuracy: 0.7980\n",
      "Epoch 82/100\n",
      "176/176 [==============================] - 50s 284ms/step - loss: 0.9464 - accuracy: 0.7200 - top-5-accuracy: 0.9441 - val_loss: 1.9800 - val_accuracy: 0.5174 - val_top-5-accuracy: 0.7874\n",
      "Epoch 83/100\n",
      "176/176 [==============================] - 50s 283ms/step - loss: 0.9421 - accuracy: 0.7162 - top-5-accuracy: 0.9447 - val_loss: 2.0072 - val_accuracy: 0.5134 - val_top-5-accuracy: 0.7958\n"
     ]
    },
    {
     "name": "stdout",
     "output_type": "stream",
     "text": [
      "Epoch 84/100\n",
      "176/176 [==============================] - 50s 284ms/step - loss: 0.9230 - accuracy: 0.7258 - top-5-accuracy: 0.9464 - val_loss: 1.9841 - val_accuracy: 0.5226 - val_top-5-accuracy: 0.7968\n",
      "Epoch 85/100\n",
      "176/176 [==============================] - 50s 284ms/step - loss: 0.9331 - accuracy: 0.7215 - top-5-accuracy: 0.9442 - val_loss: 1.9847 - val_accuracy: 0.5172 - val_top-5-accuracy: 0.7966\n",
      "Epoch 86/100\n",
      "176/176 [==============================] - 49s 281ms/step - loss: 0.9173 - accuracy: 0.7272 - top-5-accuracy: 0.9474 - val_loss: 1.9857 - val_accuracy: 0.5216 - val_top-5-accuracy: 0.7968\n",
      "Epoch 87/100\n",
      "176/176 [==============================] - 50s 283ms/step - loss: 0.9077 - accuracy: 0.7277 - top-5-accuracy: 0.9478 - val_loss: 1.9808 - val_accuracy: 0.5214 - val_top-5-accuracy: 0.7958\n",
      "Epoch 88/100\n",
      "176/176 [==============================] - 51s 291ms/step - loss: 0.9031 - accuracy: 0.7296 - top-5-accuracy: 0.9484 - val_loss: 1.9690 - val_accuracy: 0.5330 - val_top-5-accuracy: 0.7998\n",
      "Epoch 89/100\n",
      "176/176 [==============================] - 50s 283ms/step - loss: 0.9107 - accuracy: 0.7275 - top-5-accuracy: 0.9478 - val_loss: 1.9459 - val_accuracy: 0.5322 - val_top-5-accuracy: 0.8018\n",
      "Epoch 90/100\n",
      "176/176 [==============================] - 50s 284ms/step - loss: 0.8906 - accuracy: 0.7315 - top-5-accuracy: 0.9508 - val_loss: 1.9632 - val_accuracy: 0.5256 - val_top-5-accuracy: 0.7980\n",
      "Epoch 91/100\n",
      "176/176 [==============================] - 50s 284ms/step - loss: 0.8951 - accuracy: 0.7325 - top-5-accuracy: 0.9517 - val_loss: 1.9876 - val_accuracy: 0.5204 - val_top-5-accuracy: 0.7994\n",
      "Epoch 92/100\n",
      "176/176 [==============================] - 50s 284ms/step - loss: 0.8718 - accuracy: 0.7402 - top-5-accuracy: 0.9524 - val_loss: 1.9718 - val_accuracy: 0.5244 - val_top-5-accuracy: 0.8008\n",
      "Epoch 93/100\n",
      "176/176 [==============================] - 50s 284ms/step - loss: 0.8755 - accuracy: 0.7375 - top-5-accuracy: 0.9501 - val_loss: 1.9631 - val_accuracy: 0.5216 - val_top-5-accuracy: 0.7930\n",
      "Epoch 94/100\n",
      "176/176 [==============================] - 50s 283ms/step - loss: 0.8660 - accuracy: 0.7427 - top-5-accuracy: 0.9528 - val_loss: 1.9778 - val_accuracy: 0.5300 - val_top-5-accuracy: 0.7994\n",
      "Epoch 95/100\n",
      "176/176 [==============================] - 50s 284ms/step - loss: 0.8567 - accuracy: 0.7427 - top-5-accuracy: 0.9540 - val_loss: 1.9759 - val_accuracy: 0.5236 - val_top-5-accuracy: 0.7968\n",
      "Epoch 96/100\n",
      "141/176 [=======================>......] - ETA: 9s - loss: 0.8426 - accuracy: 0.7478 - top-5-accuracy: 0.9540"
     ]
    },
    {
     "name": "stderr",
     "output_type": "stream",
     "text": [
      "IOPub message rate exceeded.\n",
      "The notebook server will temporarily stop sending output\n",
      "to the client in order to avoid crashing it.\n",
      "To change this limit, set the config variable\n",
      "`--NotebookApp.iopub_msg_rate_limit`.\n",
      "\n",
      "Current values:\n",
      "NotebookApp.iopub_msg_rate_limit=1000.0 (msgs/sec)\n",
      "NotebookApp.rate_limit_window=3.0 (secs)\n",
      "\n"
     ]
    }
   ],
   "source": [
    "history = run_experiment(vit_classifier)"
   ]
  },
  {
   "cell_type": "markdown",
   "id": "00aa72c9",
   "metadata": {},
   "source": [
    "After 100 epochs, the ViT model achieves around 55% accuracy and 82% top-5 accuracy on the test data. These are not competitive results on the CIFAR-100 dataset, as a ResNet50V2 trained from scratch on the same data can achieve 67% accuracy.\n",
    "\n",
    "Note that the state of the art results reported in the paper are achieved by pre-training the ViT model using the JFT-300M dataset, then fine-tuning it on the target dataset. To improve the model quality without pre-training, you can try to train the model for more epochs, use a larger number of Transformer layers, resize the input images, change the patch size, or increase the projection dimensions. Besides, as mentioned in the paper, the quality of the model is affected not only by architecture choices, but also by parameters such as the learning rate schedule, optimizer, weight decay, etc. In practice, it's recommended to fine-tune a ViT model that was pre-trained using a large, high-resolution dataset."
   ]
  },
  {
   "cell_type": "code",
   "execution_count": 35,
   "id": "2748340c",
   "metadata": {},
   "outputs": [
    {
     "data": {
      "text/plain": [
       "[<matplotlib.lines.Line2D at 0x7f0e392e9df0>]"
      ]
     },
     "execution_count": 35,
     "metadata": {},
     "output_type": "execute_result"
    },
    {
     "data": {
      "image/png": "[encoded data removed]",
      "text/plain": [
       "<Figure size 540x360 with 1 Axes>"
      ]
     },
     "metadata": {
      "needs_background": "light"
     },
     "output_type": "display_data"
    }
   ],
   "source": [
    "plt.figure(dpi=90)\n",
    "plt.plot(history.history['accuracy'])"
   ]
  },
  {
   "cell_type": "code",
   "execution_count": 36,
   "id": "f8316dba",
   "metadata": {},
   "outputs": [
    {
     "data": {
      "text/plain": [
       "[<matplotlib.lines.Line2D at 0x7f0e392e2550>]"
      ]
     },
     "execution_count": 36,
     "metadata": {},
     "output_type": "execute_result"
    },
    {
     "data": {
      "image/png": "[encoded data removed]",
      "text/plain": [
       "<Figure size 540x360 with 1 Axes>"
      ]
     },
     "metadata": {
      "needs_background": "light"
     },
     "output_type": "display_data"
    }
   ],
   "source": [
    "plt.figure(dpi=90)\n",
    "plt.plot(history.history['accuracy'])\n",
    "plt.plot(history.history['top-5-accuracy'])"
   ]
  },
  {
   "cell_type": "code",
   "execution_count": 37,
   "id": "5fc120a3",
   "metadata": {
    "scrolled": true
   },
   "outputs": [
    {
     "data": {
      "text/plain": [
       "[<matplotlib.lines.Line2D at 0x7f0e392b44f0>]"
      ]
     },
     "execution_count": 37,
     "metadata": {},
     "output_type": "execute_result"
    },
    {
     "data": {
      "image/png": "[encoded data removed]",
      "text/plain": [
       "<Figure size 540x360 with 1 Axes>"
      ]
     },
     "metadata": {
      "needs_background": "light"
     },
     "output_type": "display_data"
    }
   ],
   "source": [
    "plt.figure(dpi=90)\n",
    "plt.plot(history.history['accuracy'])\n",
    "plt.plot(history.history['val_accuracy'])"
   ]
  },
  {
   "cell_type": "markdown",
   "id": "8395921f",
   "metadata": {},
   "source": [
    "* https://keras.io/examples/vision/image_classification_with_vision_transformer/#introduction"
   ]
  }
 ],
 "metadata": {
  "kernelspec": {
   "display_name": "Python 3",
   "language": "python",
   "name": "python3"
  },
  "language_info": {
   "codemirror_mode": {
    "name": "ipython",
    "version": 3
   },
   "file_extension": ".py",
   "mimetype": "text/x-python",
   "name": "python",
   "nbconvert_exporter": "python",
   "pygments_lexer": "ipython3",
   "version": "3.8.10"
  }
 },
 "nbformat": 4,
 "nbformat_minor": 5
}
